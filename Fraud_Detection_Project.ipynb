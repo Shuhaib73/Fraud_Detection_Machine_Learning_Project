{
  "cells": [
    {
      "cell_type": "code",
      "execution_count": 5,
      "metadata": {
        "id": "7BUlUY8QM6A2"
      },
      "outputs": [],
      "source": [
        "# Importing Essential Libraries:\n",
        "import pandas as pd\n",
        "import numpy as np\n",
        "import matplotlib.pyplot as plt\n",
        "import seaborn as sns\n",
        "import warnings\n",
        "\n",
        "# importing machine learning and stats libraries:\n",
        "from scipy.stats import boxcox\n",
        "\n",
        "from sklearn.preprocessing import StandardScaler\n",
        "\n",
        "from sklearn.linear_model import LogisticRegression\n",
        "from sklearn.tree import DecisionTreeClassifier\n",
        "from sklearn.ensemble import RandomForestClassifier\n",
        "from sklearn.ensemble import AdaBoostClassifier\n",
        "from xgboost import XGBClassifier\n",
        "\n",
        "from imblearn.over_sampling import SMOTE, RandomOverSampler\n",
        "from sklearn.feature_selection import mutual_info_classif\n",
        "from sklearn.decomposition import PCA\n",
        "\n",
        "from sklearn.model_selection import GridSearchCV\n",
        "from sklearn import metrics\n",
        "\n",
        "pd.set_option('display.max_columns', 100)\n",
        "warnings.filterwarnings('ignore')"
      ]
    },
    {
      "cell_type": "code",
      "execution_count": 6,
      "metadata": {
        "id": "sMbds841M6A-"
      },
      "outputs": [],
      "source": [
        "# Import and load data from a CSV file named 'creditcardfraud.csv\n",
        "\n",
        "data = pd.read_csv('C:/Users/user/Desktop/Python/Main_Projects/Credit_Card_Fraud_dataset/creditcardfraud.csv')"
      ]
    },
    {
      "cell_type": "code",
      "execution_count": 7,
      "metadata": {
        "id": "566b109FM6BA"
      },
      "outputs": [],
      "source": [
        "# Creating a copy of the dataset to preserve the original data for reference and analysis\n",
        "\n",
        "df = data.copy()"
      ]
    },
    {
      "cell_type": "code",
      "execution_count": 8,
      "metadata": {
        "colab": {
          "base_uri": "https://localhost:8080/",
          "height": 288
        },
        "id": "yrDq5WqqM6BB",
        "outputId": "19030ee6-e987-4942-8ec6-f097ffb23d40"
      },
      "outputs": [
        {
          "data": {
            "text/html": [
              "<div>\n",
              "<style scoped>\n",
              "    .dataframe tbody tr th:only-of-type {\n",
              "        vertical-align: middle;\n",
              "    }\n",
              "\n",
              "    .dataframe tbody tr th {\n",
              "        vertical-align: top;\n",
              "    }\n",
              "\n",
              "    .dataframe thead th {\n",
              "        text-align: right;\n",
              "    }\n",
              "</style>\n",
              "<table border=\"1\" class=\"dataframe\">\n",
              "  <thead>\n",
              "    <tr style=\"text-align: right;\">\n",
              "      <th></th>\n",
              "      <th>Unnamed: 0</th>\n",
              "      <th>trans_date_trans_time</th>\n",
              "      <th>cc_num</th>\n",
              "      <th>merchant</th>\n",
              "      <th>category</th>\n",
              "      <th>amt</th>\n",
              "      <th>first</th>\n",
              "      <th>last</th>\n",
              "      <th>gender</th>\n",
              "      <th>street</th>\n",
              "      <th>city</th>\n",
              "      <th>state</th>\n",
              "      <th>zip</th>\n",
              "      <th>lat</th>\n",
              "      <th>long</th>\n",
              "      <th>city_pop</th>\n",
              "      <th>job</th>\n",
              "      <th>dob</th>\n",
              "      <th>trans_num</th>\n",
              "      <th>unix_time</th>\n",
              "      <th>merch_lat</th>\n",
              "      <th>merch_long</th>\n",
              "      <th>is_fraud</th>\n",
              "    </tr>\n",
              "  </thead>\n",
              "  <tbody>\n",
              "    <tr>\n",
              "      <th>806223</th>\n",
              "      <td>806223</td>\n",
              "      <td>2019-12-05 23:56:45</td>\n",
              "      <td>3577663406369449</td>\n",
              "      <td>fraud_Monahan-Morar</td>\n",
              "      <td>personal_care</td>\n",
              "      <td>5.85</td>\n",
              "      <td>Cody</td>\n",
              "      <td>Hooper</td>\n",
              "      <td>M</td>\n",
              "      <td>7233 John Parks</td>\n",
              "      <td>Lepanto</td>\n",
              "      <td>AR</td>\n",
              "      <td>72354</td>\n",
              "      <td>35.6069</td>\n",
              "      <td>-90.3359</td>\n",
              "      <td>2470</td>\n",
              "      <td>Counselling psychologist</td>\n",
              "      <td>1968-10-06</td>\n",
              "      <td>3b8d74af25c4822b350e0efce4862267</td>\n",
              "      <td>1354751805</td>\n",
              "      <td>36.345493</td>\n",
              "      <td>-90.962549</td>\n",
              "      <td>0</td>\n",
              "    </tr>\n",
              "    <tr>\n",
              "      <th>938313</th>\n",
              "      <td>938313</td>\n",
              "      <td>2020-01-09 03:55:26</td>\n",
              "      <td>4998109455173950</td>\n",
              "      <td>fraud_Heidenreich PLC</td>\n",
              "      <td>grocery_pos</td>\n",
              "      <td>186.19</td>\n",
              "      <td>Mary</td>\n",
              "      <td>Pruitt</td>\n",
              "      <td>F</td>\n",
              "      <td>2819 Luke Greens Suite 563</td>\n",
              "      <td>Kansas City</td>\n",
              "      <td>MO</td>\n",
              "      <td>64114</td>\n",
              "      <td>38.9621</td>\n",
              "      <td>-94.5959</td>\n",
              "      <td>545147</td>\n",
              "      <td>Counsellor</td>\n",
              "      <td>1987-11-18</td>\n",
              "      <td>9d6cda025539708eb1f0cc9d8175ed01</td>\n",
              "      <td>1357703726</td>\n",
              "      <td>38.539761</td>\n",
              "      <td>-94.225787</td>\n",
              "      <td>0</td>\n",
              "    </tr>\n",
              "  </tbody>\n",
              "</table>\n",
              "</div>"
            ],
            "text/plain": [
              "        Unnamed: 0 trans_date_trans_time            cc_num  \\\n",
              "806223      806223   2019-12-05 23:56:45  3577663406369449   \n",
              "938313      938313   2020-01-09 03:55:26  4998109455173950   \n",
              "\n",
              "                     merchant       category     amt first    last gender  \\\n",
              "806223    fraud_Monahan-Morar  personal_care    5.85  Cody  Hooper      M   \n",
              "938313  fraud_Heidenreich PLC    grocery_pos  186.19  Mary  Pruitt      F   \n",
              "\n",
              "                            street         city state    zip      lat  \\\n",
              "806223             7233 John Parks      Lepanto    AR  72354  35.6069   \n",
              "938313  2819 Luke Greens Suite 563  Kansas City    MO  64114  38.9621   \n",
              "\n",
              "           long  city_pop                       job         dob  \\\n",
              "806223 -90.3359      2470  Counselling psychologist  1968-10-06   \n",
              "938313 -94.5959    545147                Counsellor  1987-11-18   \n",
              "\n",
              "                               trans_num   unix_time  merch_lat  merch_long  \\\n",
              "806223  3b8d74af25c4822b350e0efce4862267  1354751805  36.345493  -90.962549   \n",
              "938313  9d6cda025539708eb1f0cc9d8175ed01  1357703726  38.539761  -94.225787   \n",
              "\n",
              "        is_fraud  \n",
              "806223         0  \n",
              "938313         0  "
            ]
          },
          "execution_count": 8,
          "metadata": {},
          "output_type": "execute_result"
        }
      ],
      "source": [
        "# Randomly select and display 2 sample rows from the 'df' DataFrame\n",
        "\n",
        "df.sample(2)"
      ]
    },
    {
      "cell_type": "code",
      "execution_count": 9,
      "metadata": {
        "colab": {
          "base_uri": "https://localhost:8080/"
        },
        "id": "f_ZY2I2NM6BD",
        "outputId": "cd2eeee1-1408-4ed3-d2b6-c94152598f72"
      },
      "outputs": [
        {
          "name": "stdout",
          "output_type": "stream",
          "text": [
            "<class 'pandas.core.frame.DataFrame'>\n",
            "RangeIndex: 1296675 entries, 0 to 1296674\n",
            "Data columns (total 23 columns):\n",
            " #   Column                 Non-Null Count    Dtype  \n",
            "---  ------                 --------------    -----  \n",
            " 0   Unnamed: 0             1296675 non-null  int64  \n",
            " 1   trans_date_trans_time  1296675 non-null  object \n",
            " 2   cc_num                 1296675 non-null  int64  \n",
            " 3   merchant               1296675 non-null  object \n",
            " 4   category               1296675 non-null  object \n",
            " 5   amt                    1296675 non-null  float64\n",
            " 6   first                  1296675 non-null  object \n",
            " 7   last                   1296675 non-null  object \n",
            " 8   gender                 1296675 non-null  object \n",
            " 9   street                 1296675 non-null  object \n",
            " 10  city                   1296675 non-null  object \n",
            " 11  state                  1296675 non-null  object \n",
            " 12  zip                    1296675 non-null  int64  \n",
            " 13  lat                    1296675 non-null  float64\n",
            " 14  long                   1296675 non-null  float64\n",
            " 15  city_pop               1296675 non-null  int64  \n",
            " 16  job                    1296675 non-null  object \n",
            " 17  dob                    1296675 non-null  object \n",
            " 18  trans_num              1296675 non-null  object \n",
            " 19  unix_time              1296675 non-null  int64  \n",
            " 20  merch_lat              1296675 non-null  float64\n",
            " 21  merch_long             1296675 non-null  float64\n",
            " 22  is_fraud               1296675 non-null  int64  \n",
            "dtypes: float64(5), int64(6), object(12)\n",
            "memory usage: 227.5+ MB\n"
          ]
        }
      ],
      "source": [
        "# Retrieve information about the structure and attributes of the 'df' DataFrame\n",
        "\n",
        "df.info()"
      ]
    },
    {
      "cell_type": "code",
      "execution_count": 10,
      "metadata": {
        "colab": {
          "base_uri": "https://localhost:8080/"
        },
        "id": "jxdwVkcOM6BE",
        "outputId": "65fa71f6-2b32-423e-e3cc-ea8bd7864d41"
      },
      "outputs": [
        {
          "data": {
            "text/plain": [
              "Unnamed: 0               0\n",
              "trans_date_trans_time    0\n",
              "cc_num                   0\n",
              "merchant                 0\n",
              "category                 0\n",
              "amt                      0\n",
              "first                    0\n",
              "last                     0\n",
              "gender                   0\n",
              "street                   0\n",
              "city                     0\n",
              "state                    0\n",
              "zip                      0\n",
              "lat                      0\n",
              "long                     0\n",
              "city_pop                 0\n",
              "job                      0\n",
              "dob                      0\n",
              "trans_num                0\n",
              "unix_time                0\n",
              "merch_lat                0\n",
              "merch_long               0\n",
              "is_fraud                 0\n",
              "dtype: int64"
            ]
          },
          "execution_count": 10,
          "metadata": {},
          "output_type": "execute_result"
        }
      ],
      "source": [
        "# Handling Missing Values: Calculate the count of missing values in each colum\n",
        "\n",
        "df.isnull().sum()"
      ]
    },
    {
      "cell_type": "code",
      "execution_count": 11,
      "metadata": {
        "colab": {
          "base_uri": "https://localhost:8080/"
        },
        "id": "XO3iwsMMM6BG",
        "outputId": "57d4fe1a-09ac-484a-b0e3-54554accd548"
      },
      "outputs": [
        {
          "data": {
            "text/plain": [
              "0"
            ]
          },
          "execution_count": 11,
          "metadata": {},
          "output_type": "execute_result"
        }
      ],
      "source": [
        "# Counting Duplicates: Calculate the number of duplicated rows in the DataFrame\n",
        "\n",
        "df.duplicated().sum()"
      ]
    },
    {
      "cell_type": "code",
      "execution_count": 12,
      "metadata": {
        "colab": {
          "base_uri": "https://localhost:8080/"
        },
        "id": "CGnOf6R4M6BG",
        "outputId": "440c9380-1473-4d22-8df6-ed67395f412b"
      },
      "outputs": [
        {
          "data": {
            "text/plain": [
              "Unnamed: 0               1296675\n",
              "trans_date_trans_time    1274791\n",
              "cc_num                       983\n",
              "merchant                     693\n",
              "category                      14\n",
              "amt                        52928\n",
              "first                        352\n",
              "last                         481\n",
              "gender                         2\n",
              "street                       983\n",
              "city                         894\n",
              "state                         51\n",
              "zip                          970\n",
              "lat                          968\n",
              "long                         969\n",
              "city_pop                     879\n",
              "job                          494\n",
              "dob                          968\n",
              "trans_num                1296675\n",
              "unix_time                1274823\n",
              "merch_lat                1247805\n",
              "merch_long               1275745\n",
              "is_fraud                       2\n",
              "dtype: int64"
            ]
          },
          "execution_count": 12,
          "metadata": {},
          "output_type": "execute_result"
        }
      ],
      "source": [
        "# Count the number of unique values in each column of the 'df' DataFrame\n",
        "\n",
        "df.nunique()"
      ]
    },
    {
      "cell_type": "code",
      "execution_count": 13,
      "metadata": {
        "colab": {
          "base_uri": "https://localhost:8080/"
        },
        "id": "aTdb327bM6BI",
        "outputId": "70a7fcf5-2a5a-4539-de83-da45b04a0e01"
      },
      "outputs": [
        {
          "data": {
            "text/plain": [
              "Index(['Unnamed: 0', 'trans_date_trans_time', 'cc_num', 'merchant', 'category',\n",
              "       'amt', 'first', 'last', 'gender', 'street', 'city', 'state', 'zip',\n",
              "       'lat', 'long', 'city_pop', 'job', 'dob', 'trans_num', 'unix_time',\n",
              "       'merch_lat', 'merch_long', 'is_fraud'],\n",
              "      dtype='object')"
            ]
          },
          "execution_count": 13,
          "metadata": {},
          "output_type": "execute_result"
        }
      ],
      "source": [
        "# Retrieve the list of column names in the 'df' DataFrame\n",
        "\n",
        "df.columns"
      ]
    },
    {
      "cell_type": "markdown",
      "metadata": {
        "id": "iciKlg2CM6BI"
      },
      "source": [
        "##### Feature engineering"
      ]
    },
    {
      "cell_type": "code",
      "execution_count": 14,
      "metadata": {
        "id": "YKg0rX-bM6BK"
      },
      "outputs": [],
      "source": [
        "# Convert the 'trans_date_trans_time' column to datetime format in the 'df' DataFrame\n",
        "\n",
        "df['trans_date_trans_time'] = pd.to_datetime(df['trans_date_trans_time'])\n",
        "df['dob'] = pd.to_datetime(df['dob'])"
      ]
    },
    {
      "cell_type": "code",
      "execution_count": 15,
      "metadata": {
        "id": "0IcWLMw1M6BL"
      },
      "outputs": [],
      "source": [
        "# Feature engineering: Extract Year, hour, day of the week, and month from the 'trans_date_trans_time' column and create new columns in the 'df' DataFrame\n",
        "\n",
        "df['Year'] = df['trans_date_trans_time'].dt.year\n",
        "df['Hour'] = df['trans_date_trans_time'].dt.hour\n",
        "df['Day'] = df['trans_date_trans_time'].dt.day_of_week\n",
        "df['Month'] = df['trans_date_trans_time'].dt.month"
      ]
    },
    {
      "cell_type": "code",
      "execution_count": 16,
      "metadata": {
        "id": "WExDDEggM6BM"
      },
      "outputs": [],
      "source": [
        "# # Creating a new column called Transaction date and converting into datetime datatype\n",
        "\n",
        "# pd.to_datetime(df['trans_date_trans_time'], format='%Y:%M:%D').dt.date\n",
        "# # df['Transaction_date'] = pd.to_datetime(df['Transaction_date'])"
      ]
    },
    {
      "cell_type": "code",
      "execution_count": 17,
      "metadata": {
        "id": "Ic_wv99xM6BM"
      },
      "outputs": [],
      "source": [
        "# Creating a new column called Age\n",
        "\n",
        "df['Age'] = round((df['trans_date_trans_time'] - df['dob']).dt.days / 365).astype('int')"
      ]
    },
    {
      "cell_type": "code",
      "execution_count": 18,
      "metadata": {
        "id": "eY7NocLtM6BN"
      },
      "outputs": [],
      "source": [
        "# Remove the 'trans_date_trans_time' column from the 'df' DataFrame\n",
        "\n",
        "df.drop(columns=['trans_date_trans_time', 'Unnamed: 0'], inplace=True)"
      ]
    },
    {
      "cell_type": "code",
      "execution_count": 19,
      "metadata": {
        "colab": {
          "base_uri": "https://localhost:8080/",
          "height": 337
        },
        "id": "ju4m0PH1M6BN",
        "outputId": "04113b71-ec68-4b09-ed51-d3fe3209b88d"
      },
      "outputs": [
        {
          "data": {
            "text/html": [
              "<div>\n",
              "<style scoped>\n",
              "    .dataframe tbody tr th:only-of-type {\n",
              "        vertical-align: middle;\n",
              "    }\n",
              "\n",
              "    .dataframe tbody tr th {\n",
              "        vertical-align: top;\n",
              "    }\n",
              "\n",
              "    .dataframe thead th {\n",
              "        text-align: right;\n",
              "    }\n",
              "</style>\n",
              "<table border=\"1\" class=\"dataframe\">\n",
              "  <thead>\n",
              "    <tr style=\"text-align: right;\">\n",
              "      <th></th>\n",
              "      <th>cc_num</th>\n",
              "      <th>merchant</th>\n",
              "      <th>category</th>\n",
              "      <th>amt</th>\n",
              "      <th>first</th>\n",
              "      <th>last</th>\n",
              "      <th>gender</th>\n",
              "      <th>street</th>\n",
              "      <th>city</th>\n",
              "      <th>state</th>\n",
              "      <th>zip</th>\n",
              "      <th>lat</th>\n",
              "      <th>long</th>\n",
              "      <th>city_pop</th>\n",
              "      <th>job</th>\n",
              "      <th>dob</th>\n",
              "      <th>trans_num</th>\n",
              "      <th>unix_time</th>\n",
              "      <th>merch_lat</th>\n",
              "      <th>merch_long</th>\n",
              "      <th>is_fraud</th>\n",
              "      <th>Year</th>\n",
              "      <th>Hour</th>\n",
              "      <th>Day</th>\n",
              "      <th>Month</th>\n",
              "      <th>Age</th>\n",
              "    </tr>\n",
              "  </thead>\n",
              "  <tbody>\n",
              "    <tr>\n",
              "      <th>0</th>\n",
              "      <td>2703186189652095</td>\n",
              "      <td>fraud_Rippin, Kub and Mann</td>\n",
              "      <td>misc_net</td>\n",
              "      <td>4.97</td>\n",
              "      <td>Jennifer</td>\n",
              "      <td>Banks</td>\n",
              "      <td>F</td>\n",
              "      <td>561 Perry Cove</td>\n",
              "      <td>Moravian Falls</td>\n",
              "      <td>NC</td>\n",
              "      <td>28654</td>\n",
              "      <td>36.0788</td>\n",
              "      <td>-81.1781</td>\n",
              "      <td>3495</td>\n",
              "      <td>Psychologist, counselling</td>\n",
              "      <td>1988-03-09</td>\n",
              "      <td>0b242abb623afc578575680df30655b9</td>\n",
              "      <td>1325376018</td>\n",
              "      <td>36.011293</td>\n",
              "      <td>-82.048315</td>\n",
              "      <td>0</td>\n",
              "      <td>2019</td>\n",
              "      <td>0</td>\n",
              "      <td>1</td>\n",
              "      <td>1</td>\n",
              "      <td>31</td>\n",
              "    </tr>\n",
              "    <tr>\n",
              "      <th>1</th>\n",
              "      <td>630423337322</td>\n",
              "      <td>fraud_Heller, Gutmann and Zieme</td>\n",
              "      <td>grocery_pos</td>\n",
              "      <td>107.23</td>\n",
              "      <td>Stephanie</td>\n",
              "      <td>Gill</td>\n",
              "      <td>F</td>\n",
              "      <td>43039 Riley Greens Suite 393</td>\n",
              "      <td>Orient</td>\n",
              "      <td>WA</td>\n",
              "      <td>99160</td>\n",
              "      <td>48.8878</td>\n",
              "      <td>-118.2105</td>\n",
              "      <td>149</td>\n",
              "      <td>Special educational needs teacher</td>\n",
              "      <td>1978-06-21</td>\n",
              "      <td>1f76529f8574734946361c461b024d99</td>\n",
              "      <td>1325376044</td>\n",
              "      <td>49.159047</td>\n",
              "      <td>-118.186462</td>\n",
              "      <td>0</td>\n",
              "      <td>2019</td>\n",
              "      <td>0</td>\n",
              "      <td>1</td>\n",
              "      <td>1</td>\n",
              "      <td>41</td>\n",
              "    </tr>\n",
              "    <tr>\n",
              "      <th>2</th>\n",
              "      <td>38859492057661</td>\n",
              "      <td>fraud_Lind-Buckridge</td>\n",
              "      <td>entertainment</td>\n",
              "      <td>220.11</td>\n",
              "      <td>Edward</td>\n",
              "      <td>Sanchez</td>\n",
              "      <td>M</td>\n",
              "      <td>594 White Dale Suite 530</td>\n",
              "      <td>Malad City</td>\n",
              "      <td>ID</td>\n",
              "      <td>83252</td>\n",
              "      <td>42.1808</td>\n",
              "      <td>-112.2620</td>\n",
              "      <td>4154</td>\n",
              "      <td>Nature conservation officer</td>\n",
              "      <td>1962-01-19</td>\n",
              "      <td>a1a22d70485983eac12b5b88dad1cf95</td>\n",
              "      <td>1325376051</td>\n",
              "      <td>43.150704</td>\n",
              "      <td>-112.154481</td>\n",
              "      <td>0</td>\n",
              "      <td>2019</td>\n",
              "      <td>0</td>\n",
              "      <td>1</td>\n",
              "      <td>1</td>\n",
              "      <td>57</td>\n",
              "    </tr>\n",
              "  </tbody>\n",
              "</table>\n",
              "</div>"
            ],
            "text/plain": [
              "             cc_num                         merchant       category     amt  \\\n",
              "0  2703186189652095       fraud_Rippin, Kub and Mann       misc_net    4.97   \n",
              "1      630423337322  fraud_Heller, Gutmann and Zieme    grocery_pos  107.23   \n",
              "2    38859492057661             fraud_Lind-Buckridge  entertainment  220.11   \n",
              "\n",
              "       first     last gender                        street            city  \\\n",
              "0   Jennifer    Banks      F                561 Perry Cove  Moravian Falls   \n",
              "1  Stephanie     Gill      F  43039 Riley Greens Suite 393          Orient   \n",
              "2     Edward  Sanchez      M      594 White Dale Suite 530      Malad City   \n",
              "\n",
              "  state    zip      lat      long  city_pop  \\\n",
              "0    NC  28654  36.0788  -81.1781      3495   \n",
              "1    WA  99160  48.8878 -118.2105       149   \n",
              "2    ID  83252  42.1808 -112.2620      4154   \n",
              "\n",
              "                                 job        dob  \\\n",
              "0          Psychologist, counselling 1988-03-09   \n",
              "1  Special educational needs teacher 1978-06-21   \n",
              "2        Nature conservation officer 1962-01-19   \n",
              "\n",
              "                          trans_num   unix_time  merch_lat  merch_long  \\\n",
              "0  0b242abb623afc578575680df30655b9  1325376018  36.011293  -82.048315   \n",
              "1  1f76529f8574734946361c461b024d99  1325376044  49.159047 -118.186462   \n",
              "2  a1a22d70485983eac12b5b88dad1cf95  1325376051  43.150704 -112.154481   \n",
              "\n",
              "   is_fraud  Year  Hour  Day  Month  Age  \n",
              "0         0  2019     0    1      1   31  \n",
              "1         0  2019     0    1      1   41  \n",
              "2         0  2019     0    1      1   57  "
            ]
          },
          "execution_count": 19,
          "metadata": {},
          "output_type": "execute_result"
        }
      ],
      "source": [
        "# Display the first 3 rows of the 'df' DataFrame for a quick overview of the data\n",
        "\n",
        "df.head(3)"
      ]
    },
    {
      "cell_type": "markdown",
      "metadata": {
        "id": "lR-aO_5wM6BO"
      },
      "source": [
        "## **EDA**"
      ]
    },
    {
      "cell_type": "code",
      "execution_count": 20,
      "metadata": {
        "colab": {
          "base_uri": "https://localhost:8080/",
          "height": 363
        },
        "id": "eOwe6PaBM6BP",
        "outputId": "fd3d936d-3994-4515-e26e-54dbd70bd91c"
      },
      "outputs": [
        {
          "data": {
            "text/html": [
              "<div>\n",
              "<style scoped>\n",
              "    .dataframe tbody tr th:only-of-type {\n",
              "        vertical-align: middle;\n",
              "    }\n",
              "\n",
              "    .dataframe tbody tr th {\n",
              "        vertical-align: top;\n",
              "    }\n",
              "\n",
              "    .dataframe thead th {\n",
              "        text-align: right;\n",
              "    }\n",
              "</style>\n",
              "<table border=\"1\" class=\"dataframe\">\n",
              "  <thead>\n",
              "    <tr style=\"text-align: right;\">\n",
              "      <th></th>\n",
              "      <th>state</th>\n",
              "      <th>Total_Fraud_count</th>\n",
              "    </tr>\n",
              "  </thead>\n",
              "  <tbody>\n",
              "    <tr>\n",
              "      <th>0</th>\n",
              "      <td>NY</td>\n",
              "      <td>555</td>\n",
              "    </tr>\n",
              "    <tr>\n",
              "      <th>1</th>\n",
              "      <td>TX</td>\n",
              "      <td>479</td>\n",
              "    </tr>\n",
              "    <tr>\n",
              "      <th>2</th>\n",
              "      <td>PA</td>\n",
              "      <td>458</td>\n",
              "    </tr>\n",
              "    <tr>\n",
              "      <th>3</th>\n",
              "      <td>CA</td>\n",
              "      <td>326</td>\n",
              "    </tr>\n",
              "    <tr>\n",
              "      <th>4</th>\n",
              "      <td>OH</td>\n",
              "      <td>321</td>\n",
              "    </tr>\n",
              "    <tr>\n",
              "      <th>5</th>\n",
              "      <td>FL</td>\n",
              "      <td>281</td>\n",
              "    </tr>\n",
              "    <tr>\n",
              "      <th>6</th>\n",
              "      <td>IL</td>\n",
              "      <td>248</td>\n",
              "    </tr>\n",
              "    <tr>\n",
              "      <th>7</th>\n",
              "      <td>MI</td>\n",
              "      <td>238</td>\n",
              "    </tr>\n",
              "    <tr>\n",
              "      <th>8</th>\n",
              "      <td>AL</td>\n",
              "      <td>215</td>\n",
              "    </tr>\n",
              "    <tr>\n",
              "      <th>9</th>\n",
              "      <td>MN</td>\n",
              "      <td>207</td>\n",
              "    </tr>\n",
              "  </tbody>\n",
              "</table>\n",
              "</div>"
            ],
            "text/plain": [
              "  state  Total_Fraud_count\n",
              "0    NY                555\n",
              "1    TX                479\n",
              "2    PA                458\n",
              "3    CA                326\n",
              "4    OH                321\n",
              "5    FL                281\n",
              "6    IL                248\n",
              "7    MI                238\n",
              "8    AL                215\n",
              "9    MN                207"
            ]
          },
          "execution_count": 20,
          "metadata": {},
          "output_type": "execute_result"
        }
      ],
      "source": [
        "# What are the top 10 states with the highest counts of fraud transactions in the 'df' DataFrame\n",
        "\n",
        "df_fraud = df[df['is_fraud'] == 1]\n",
        "\n",
        "state_fraud = df_fraud.groupby('state')['is_fraud'].value_counts().reset_index().sort_values(by='count', ascending=False)\n",
        "state_fraud.drop(columns=['is_fraud'], inplace=True)\n",
        "state_fraud.rename(columns={'count' : 'Total_Fraud_count'}).reset_index(drop=True).head(10)"
      ]
    },
    {
      "cell_type": "code",
      "execution_count": 21,
      "metadata": {
        "colab": {
          "base_uri": "https://localhost:8080/",
          "height": 269
        },
        "id": "t2stxTawM6BP",
        "outputId": "2e2bc047-43b8-4bf0-e03f-7a2ac7cee31b"
      },
      "outputs": [
        {
          "data": {
            "text/html": [
              "<div>\n",
              "<style scoped>\n",
              "    .dataframe tbody tr th:only-of-type {\n",
              "        vertical-align: middle;\n",
              "    }\n",
              "\n",
              "    .dataframe tbody tr th {\n",
              "        vertical-align: top;\n",
              "    }\n",
              "\n",
              "    .dataframe thead th {\n",
              "        text-align: right;\n",
              "    }\n",
              "</style>\n",
              "<table border=\"1\" class=\"dataframe\">\n",
              "  <thead>\n",
              "    <tr style=\"text-align: right;\">\n",
              "      <th></th>\n",
              "      <th>Day</th>\n",
              "      <th>Total_Fraud_count</th>\n",
              "    </tr>\n",
              "  </thead>\n",
              "  <tbody>\n",
              "    <tr>\n",
              "      <th>0</th>\n",
              "      <td>5</td>\n",
              "      <td>1227</td>\n",
              "    </tr>\n",
              "    <tr>\n",
              "      <th>1</th>\n",
              "      <td>6</td>\n",
              "      <td>1216</td>\n",
              "    </tr>\n",
              "    <tr>\n",
              "      <th>2</th>\n",
              "      <td>0</td>\n",
              "      <td>1182</td>\n",
              "    </tr>\n",
              "    <tr>\n",
              "      <th>3</th>\n",
              "      <td>4</td>\n",
              "      <td>1079</td>\n",
              "    </tr>\n",
              "    <tr>\n",
              "      <th>4</th>\n",
              "      <td>3</td>\n",
              "      <td>1008</td>\n",
              "    </tr>\n",
              "    <tr>\n",
              "      <th>5</th>\n",
              "      <td>1</td>\n",
              "      <td>935</td>\n",
              "    </tr>\n",
              "    <tr>\n",
              "      <th>6</th>\n",
              "      <td>2</td>\n",
              "      <td>859</td>\n",
              "    </tr>\n",
              "  </tbody>\n",
              "</table>\n",
              "</div>"
            ],
            "text/plain": [
              "   Day  Total_Fraud_count\n",
              "0    5               1227\n",
              "1    6               1216\n",
              "2    0               1182\n",
              "3    4               1079\n",
              "4    3               1008\n",
              "5    1                935\n",
              "6    2                859"
            ]
          },
          "execution_count": 21,
          "metadata": {},
          "output_type": "execute_result"
        }
      ],
      "source": [
        "# What days of the week has the highest counts of fraud transactions in the 'df' DataFrame\n",
        "\n",
        "day_fraud = df_fraud.groupby('Day')['is_fraud'].value_counts().reset_index().sort_values(by='count', ascending=False)\n",
        "day_fraud.drop(columns=['is_fraud'], inplace=True)\n",
        "day_fraud.rename(columns={'count' : 'Total_Fraud_count'}).reset_index(drop=True)"
      ]
    },
    {
      "cell_type": "code",
      "execution_count": 22,
      "metadata": {
        "colab": {
          "base_uri": "https://localhost:8080/",
          "height": 363
        },
        "id": "2QTiXG3-M6BQ",
        "outputId": "b6a6f257-12f4-4ff0-ac7e-c70fbed5379c"
      },
      "outputs": [
        {
          "data": {
            "text/html": [
              "<div>\n",
              "<style scoped>\n",
              "    .dataframe tbody tr th:only-of-type {\n",
              "        vertical-align: middle;\n",
              "    }\n",
              "\n",
              "    .dataframe tbody tr th {\n",
              "        vertical-align: top;\n",
              "    }\n",
              "\n",
              "    .dataframe thead th {\n",
              "        text-align: right;\n",
              "    }\n",
              "</style>\n",
              "<table border=\"1\" class=\"dataframe\">\n",
              "  <thead>\n",
              "    <tr style=\"text-align: right;\">\n",
              "      <th></th>\n",
              "      <th>Hour</th>\n",
              "      <th>Total_Fraud_count</th>\n",
              "    </tr>\n",
              "  </thead>\n",
              "  <tbody>\n",
              "    <tr>\n",
              "      <th>0</th>\n",
              "      <td>22</td>\n",
              "      <td>1931</td>\n",
              "    </tr>\n",
              "    <tr>\n",
              "      <th>1</th>\n",
              "      <td>23</td>\n",
              "      <td>1904</td>\n",
              "    </tr>\n",
              "    <tr>\n",
              "      <th>2</th>\n",
              "      <td>1</td>\n",
              "      <td>658</td>\n",
              "    </tr>\n",
              "    <tr>\n",
              "      <th>3</th>\n",
              "      <td>0</td>\n",
              "      <td>635</td>\n",
              "    </tr>\n",
              "    <tr>\n",
              "      <th>4</th>\n",
              "      <td>2</td>\n",
              "      <td>625</td>\n",
              "    </tr>\n",
              "    <tr>\n",
              "      <th>5</th>\n",
              "      <td>3</td>\n",
              "      <td>609</td>\n",
              "    </tr>\n",
              "    <tr>\n",
              "      <th>6</th>\n",
              "      <td>14</td>\n",
              "      <td>86</td>\n",
              "    </tr>\n",
              "    <tr>\n",
              "      <th>7</th>\n",
              "      <td>19</td>\n",
              "      <td>81</td>\n",
              "    </tr>\n",
              "    <tr>\n",
              "      <th>8</th>\n",
              "      <td>18</td>\n",
              "      <td>81</td>\n",
              "    </tr>\n",
              "    <tr>\n",
              "      <th>9</th>\n",
              "      <td>13</td>\n",
              "      <td>80</td>\n",
              "    </tr>\n",
              "  </tbody>\n",
              "</table>\n",
              "</div>"
            ],
            "text/plain": [
              "   Hour  Total_Fraud_count\n",
              "0    22               1931\n",
              "1    23               1904\n",
              "2     1                658\n",
              "3     0                635\n",
              "4     2                625\n",
              "5     3                609\n",
              "6    14                 86\n",
              "7    19                 81\n",
              "8    18                 81\n",
              "9    13                 80"
            ]
          },
          "execution_count": 22,
          "metadata": {},
          "output_type": "execute_result"
        }
      ],
      "source": [
        "# What hours of the day has the highest counts of fraud transactions\n",
        "\n",
        "hour_fraud = df_fraud.groupby('Hour')['is_fraud'].value_counts().reset_index().sort_values(by='count', ascending=False)\n",
        "hour_fraud.drop(columns=['is_fraud'], inplace=True)\n",
        "hour_fraud.rename(columns={'count' : 'Total_Fraud_count'}).reset_index(drop=True).head(10)"
      ]
    },
    {
      "cell_type": "code",
      "execution_count": 23,
      "metadata": {
        "colab": {
          "base_uri": "https://localhost:8080/",
          "height": 425
        },
        "id": "he0ij9ZLM6BR",
        "outputId": "dd380b80-8e0c-4bc2-f6d4-754e73b936dc"
      },
      "outputs": [
        {
          "data": {
            "text/html": [
              "<div>\n",
              "<style scoped>\n",
              "    .dataframe tbody tr th:only-of-type {\n",
              "        vertical-align: middle;\n",
              "    }\n",
              "\n",
              "    .dataframe tbody tr th {\n",
              "        vertical-align: top;\n",
              "    }\n",
              "\n",
              "    .dataframe thead th {\n",
              "        text-align: right;\n",
              "    }\n",
              "</style>\n",
              "<table border=\"1\" class=\"dataframe\">\n",
              "  <thead>\n",
              "    <tr style=\"text-align: right;\">\n",
              "      <th></th>\n",
              "      <th>Month</th>\n",
              "      <th>Num_of_fraud_tran</th>\n",
              "      <th>Num_of_fraud_Customer</th>\n",
              "    </tr>\n",
              "  </thead>\n",
              "  <tbody>\n",
              "    <tr>\n",
              "      <th>0</th>\n",
              "      <td>1</td>\n",
              "      <td>849</td>\n",
              "      <td>90</td>\n",
              "    </tr>\n",
              "    <tr>\n",
              "      <th>1</th>\n",
              "      <td>2</td>\n",
              "      <td>853</td>\n",
              "      <td>88</td>\n",
              "    </tr>\n",
              "    <tr>\n",
              "      <th>2</th>\n",
              "      <td>3</td>\n",
              "      <td>938</td>\n",
              "      <td>94</td>\n",
              "    </tr>\n",
              "    <tr>\n",
              "      <th>3</th>\n",
              "      <td>4</td>\n",
              "      <td>678</td>\n",
              "      <td>77</td>\n",
              "    </tr>\n",
              "    <tr>\n",
              "      <th>4</th>\n",
              "      <td>5</td>\n",
              "      <td>935</td>\n",
              "      <td>96</td>\n",
              "    </tr>\n",
              "    <tr>\n",
              "      <th>5</th>\n",
              "      <td>6</td>\n",
              "      <td>688</td>\n",
              "      <td>71</td>\n",
              "    </tr>\n",
              "    <tr>\n",
              "      <th>6</th>\n",
              "      <td>7</td>\n",
              "      <td>331</td>\n",
              "      <td>36</td>\n",
              "    </tr>\n",
              "    <tr>\n",
              "      <th>7</th>\n",
              "      <td>8</td>\n",
              "      <td>382</td>\n",
              "      <td>39</td>\n",
              "    </tr>\n",
              "    <tr>\n",
              "      <th>8</th>\n",
              "      <td>9</td>\n",
              "      <td>418</td>\n",
              "      <td>44</td>\n",
              "    </tr>\n",
              "    <tr>\n",
              "      <th>9</th>\n",
              "      <td>10</td>\n",
              "      <td>454</td>\n",
              "      <td>50</td>\n",
              "    </tr>\n",
              "    <tr>\n",
              "      <th>10</th>\n",
              "      <td>11</td>\n",
              "      <td>388</td>\n",
              "      <td>41</td>\n",
              "    </tr>\n",
              "    <tr>\n",
              "      <th>11</th>\n",
              "      <td>12</td>\n",
              "      <td>592</td>\n",
              "      <td>62</td>\n",
              "    </tr>\n",
              "  </tbody>\n",
              "</table>\n",
              "</div>"
            ],
            "text/plain": [
              "    Month  Num_of_fraud_tran  Num_of_fraud_Customer\n",
              "0       1                849                     90\n",
              "1       2                853                     88\n",
              "2       3                938                     94\n",
              "3       4                678                     77\n",
              "4       5                935                     96\n",
              "5       6                688                     71\n",
              "6       7                331                     36\n",
              "7       8                382                     39\n",
              "8       9                418                     44\n",
              "9      10                454                     50\n",
              "10     11                388                     41\n",
              "11     12                592                     62"
            ]
          },
          "execution_count": 23,
          "metadata": {},
          "output_type": "execute_result"
        }
      ],
      "source": [
        "# How many unique fraud transactions ('Num_of_fraud_tran') and unique fraud customers ('Num_of_fraud_Customer') are there for each month\n",
        "\n",
        "month_fraud = df_fraud.groupby('Month')[['trans_num','cc_num']].nunique().reset_index()\n",
        "month_fraud.rename(columns={'trans_num' : 'Num_of_fraud_tran', 'cc_num' : 'Num_of_fraud_Customer'}, inplace=True)\n",
        "month_fraud"
      ]
    },
    {
      "cell_type": "code",
      "execution_count": 24,
      "metadata": {
        "colab": {
          "base_uri": "https://localhost:8080/",
          "height": 112
        },
        "id": "c-LInyHsM6BR",
        "outputId": "3a1f8b0d-bf0e-4c09-af65-2aeaddd328d2"
      },
      "outputs": [
        {
          "data": {
            "text/html": [
              "<div>\n",
              "<style scoped>\n",
              "    .dataframe tbody tr th:only-of-type {\n",
              "        vertical-align: middle;\n",
              "    }\n",
              "\n",
              "    .dataframe tbody tr th {\n",
              "        vertical-align: top;\n",
              "    }\n",
              "\n",
              "    .dataframe thead th {\n",
              "        text-align: right;\n",
              "    }\n",
              "</style>\n",
              "<table border=\"1\" class=\"dataframe\">\n",
              "  <thead>\n",
              "    <tr style=\"text-align: right;\">\n",
              "      <th></th>\n",
              "      <th>gender</th>\n",
              "      <th>Total_transactions</th>\n",
              "      <th>fraud_Per</th>\n",
              "    </tr>\n",
              "  </thead>\n",
              "  <tbody>\n",
              "    <tr>\n",
              "      <th>0</th>\n",
              "      <td>F</td>\n",
              "      <td>709863</td>\n",
              "      <td>0.526158</td>\n",
              "    </tr>\n",
              "    <tr>\n",
              "      <th>1</th>\n",
              "      <td>M</td>\n",
              "      <td>586812</td>\n",
              "      <td>0.642625</td>\n",
              "    </tr>\n",
              "  </tbody>\n",
              "</table>\n",
              "</div>"
            ],
            "text/plain": [
              "  gender  Total_transactions  fraud_Per\n",
              "0      F              709863   0.526158\n",
              "1      M              586812   0.642625"
            ]
          },
          "execution_count": 24,
          "metadata": {},
          "output_type": "execute_result"
        }
      ],
      "source": [
        "# What is the proportion of fraud transactions for each gender, and how does it compare to the total number of unique transactions ('trans_num') by gender\n",
        "\n",
        "fraud_per = df.groupby('gender')['is_fraud'].value_counts(normalize=True).reset_index()\n",
        "fraud_per = fraud_per[fraud_per['is_fraud']==1].reset_index(drop=True)\n",
        "fraud_per['proportion'] = fraud_per['proportion']*100\n",
        "\n",
        "df_gender = df.groupby('gender')['trans_num'].nunique().reset_index()\n",
        "df_gender['fraud_Per'] = fraud_per['proportion']\n",
        "df_gender.rename(columns={'trans_num' : 'Total_transactions'})"
      ]
    },
    {
      "cell_type": "code",
      "execution_count": 25,
      "metadata": {
        "colab": {
          "base_uri": "https://localhost:8080/",
          "height": 488
        },
        "id": "X0e-fT8TM6BS",
        "outputId": "8ad600fc-4389-4eeb-c914-23f2aed806aa"
      },
      "outputs": [
        {
          "data": {
            "text/html": [
              "<div>\n",
              "<style scoped>\n",
              "    .dataframe tbody tr th:only-of-type {\n",
              "        vertical-align: middle;\n",
              "    }\n",
              "\n",
              "    .dataframe tbody tr th {\n",
              "        vertical-align: top;\n",
              "    }\n",
              "\n",
              "    .dataframe thead th {\n",
              "        text-align: right;\n",
              "    }\n",
              "</style>\n",
              "<table border=\"1\" class=\"dataframe\">\n",
              "  <thead>\n",
              "    <tr style=\"text-align: right;\">\n",
              "      <th></th>\n",
              "      <th>category</th>\n",
              "      <th>Total_transactions</th>\n",
              "      <th>fraud_Per</th>\n",
              "    </tr>\n",
              "  </thead>\n",
              "  <tbody>\n",
              "    <tr>\n",
              "      <th>0</th>\n",
              "      <td>gas_transport</td>\n",
              "      <td>131659</td>\n",
              "      <td>0.469394</td>\n",
              "    </tr>\n",
              "    <tr>\n",
              "      <th>1</th>\n",
              "      <td>grocery_pos</td>\n",
              "      <td>123638</td>\n",
              "      <td>1.409761</td>\n",
              "    </tr>\n",
              "    <tr>\n",
              "      <th>2</th>\n",
              "      <td>home</td>\n",
              "      <td>123115</td>\n",
              "      <td>0.160825</td>\n",
              "    </tr>\n",
              "    <tr>\n",
              "      <th>3</th>\n",
              "      <td>shopping_pos</td>\n",
              "      <td>116672</td>\n",
              "      <td>0.722538</td>\n",
              "    </tr>\n",
              "    <tr>\n",
              "      <th>4</th>\n",
              "      <td>kids_pets</td>\n",
              "      <td>113035</td>\n",
              "      <td>0.211439</td>\n",
              "    </tr>\n",
              "    <tr>\n",
              "      <th>5</th>\n",
              "      <td>shopping_net</td>\n",
              "      <td>97543</td>\n",
              "      <td>1.756149</td>\n",
              "    </tr>\n",
              "    <tr>\n",
              "      <th>6</th>\n",
              "      <td>entertainment</td>\n",
              "      <td>94014</td>\n",
              "      <td>0.247835</td>\n",
              "    </tr>\n",
              "    <tr>\n",
              "      <th>7</th>\n",
              "      <td>food_dining</td>\n",
              "      <td>91461</td>\n",
              "      <td>0.165098</td>\n",
              "    </tr>\n",
              "    <tr>\n",
              "      <th>8</th>\n",
              "      <td>personal_care</td>\n",
              "      <td>90758</td>\n",
              "      <td>0.242403</td>\n",
              "    </tr>\n",
              "    <tr>\n",
              "      <th>9</th>\n",
              "      <td>health_fitness</td>\n",
              "      <td>85879</td>\n",
              "      <td>0.154869</td>\n",
              "    </tr>\n",
              "    <tr>\n",
              "      <th>10</th>\n",
              "      <td>misc_pos</td>\n",
              "      <td>79655</td>\n",
              "      <td>0.313853</td>\n",
              "    </tr>\n",
              "    <tr>\n",
              "      <th>11</th>\n",
              "      <td>misc_net</td>\n",
              "      <td>63287</td>\n",
              "      <td>1.445795</td>\n",
              "    </tr>\n",
              "    <tr>\n",
              "      <th>12</th>\n",
              "      <td>grocery_net</td>\n",
              "      <td>45452</td>\n",
              "      <td>0.294817</td>\n",
              "    </tr>\n",
              "    <tr>\n",
              "      <th>13</th>\n",
              "      <td>travel</td>\n",
              "      <td>40507</td>\n",
              "      <td>0.286370</td>\n",
              "    </tr>\n",
              "  </tbody>\n",
              "</table>\n",
              "</div>"
            ],
            "text/plain": [
              "          category  Total_transactions  fraud_Per\n",
              "0    gas_transport              131659   0.469394\n",
              "1      grocery_pos              123638   1.409761\n",
              "2             home              123115   0.160825\n",
              "3     shopping_pos              116672   0.722538\n",
              "4        kids_pets              113035   0.211439\n",
              "5     shopping_net               97543   1.756149\n",
              "6    entertainment               94014   0.247835\n",
              "7      food_dining               91461   0.165098\n",
              "8    personal_care               90758   0.242403\n",
              "9   health_fitness               85879   0.154869\n",
              "10        misc_pos               79655   0.313853\n",
              "11        misc_net               63287   1.445795\n",
              "12     grocery_net               45452   0.294817\n",
              "13          travel               40507   0.286370"
            ]
          },
          "execution_count": 25,
          "metadata": {},
          "output_type": "execute_result"
        }
      ],
      "source": [
        "# What is the proportion of fraud transactions for each category, and how does it correlate with the total number of unique transactions ('trans_num') in each category\n",
        "\n",
        "fraud_per = df.groupby('category')['is_fraud'].value_counts(normalize=True).reset_index()\n",
        "fraud_per = fraud_per[fraud_per['is_fraud']==1].reset_index(drop=True)\n",
        "fraud_per['proportion'] = fraud_per['proportion']*100\n",
        "\n",
        "df_catg = df.groupby('category')['trans_num'].nunique().reset_index().sort_values(by='trans_num', ascending=False)\n",
        "df_catg['fraud_Per'] = fraud_per['proportion']\n",
        "df_catg.reset_index(drop=True, inplace=True)\n",
        "df_catg.rename(columns={'trans_num' : 'Total_transactions'})"
      ]
    },
    {
      "cell_type": "code",
      "execution_count": 26,
      "metadata": {
        "colab": {
          "base_uri": "https://localhost:8080/",
          "height": 423
        },
        "id": "E-f0KSvrM6BT",
        "outputId": "1ac6f1d2-1e3f-47f9-9260-b19898a5de93"
      },
      "outputs": [
        {
          "data": {
            "text/html": [
              "<div>\n",
              "<style scoped>\n",
              "    .dataframe tbody tr th:only-of-type {\n",
              "        vertical-align: middle;\n",
              "    }\n",
              "\n",
              "    .dataframe tbody tr th {\n",
              "        vertical-align: top;\n",
              "    }\n",
              "\n",
              "    .dataframe thead th {\n",
              "        text-align: right;\n",
              "    }\n",
              "</style>\n",
              "<table border=\"1\" class=\"dataframe\">\n",
              "  <thead>\n",
              "    <tr style=\"text-align: right;\">\n",
              "      <th></th>\n",
              "      <th>job</th>\n",
              "      <th>total_num_transactions</th>\n",
              "      <th>total_num_fraud_trans</th>\n",
              "      <th>fraud_trans_per</th>\n",
              "    </tr>\n",
              "  </thead>\n",
              "  <tbody>\n",
              "    <tr>\n",
              "      <th>0</th>\n",
              "      <td>Film/video editor</td>\n",
              "      <td>9779</td>\n",
              "      <td>44</td>\n",
              "      <td>0.45</td>\n",
              "    </tr>\n",
              "    <tr>\n",
              "      <th>1</th>\n",
              "      <td>Exhibition designer</td>\n",
              "      <td>9199</td>\n",
              "      <td>51</td>\n",
              "      <td>0.55</td>\n",
              "    </tr>\n",
              "    <tr>\n",
              "      <th>2</th>\n",
              "      <td>Naval architect</td>\n",
              "      <td>8684</td>\n",
              "      <td>53</td>\n",
              "      <td>0.61</td>\n",
              "    </tr>\n",
              "    <tr>\n",
              "      <th>3</th>\n",
              "      <td>Surveyor, land/geomatics</td>\n",
              "      <td>8680</td>\n",
              "      <td>50</td>\n",
              "      <td>0.58</td>\n",
              "    </tr>\n",
              "    <tr>\n",
              "      <th>4</th>\n",
              "      <td>Materials engineer</td>\n",
              "      <td>8270</td>\n",
              "      <td>62</td>\n",
              "      <td>0.75</td>\n",
              "    </tr>\n",
              "    <tr>\n",
              "      <th>...</th>\n",
              "      <td>...</td>\n",
              "      <td>...</td>\n",
              "      <td>...</td>\n",
              "      <td>...</td>\n",
              "    </tr>\n",
              "    <tr>\n",
              "      <th>438</th>\n",
              "      <td>Armed forces technical officer</td>\n",
              "      <td>8</td>\n",
              "      <td>8</td>\n",
              "      <td>100.00</td>\n",
              "    </tr>\n",
              "    <tr>\n",
              "      <th>439</th>\n",
              "      <td>Information officer</td>\n",
              "      <td>8</td>\n",
              "      <td>8</td>\n",
              "      <td>100.00</td>\n",
              "    </tr>\n",
              "    <tr>\n",
              "      <th>440</th>\n",
              "      <td>Ship broker</td>\n",
              "      <td>7</td>\n",
              "      <td>7</td>\n",
              "      <td>100.00</td>\n",
              "    </tr>\n",
              "    <tr>\n",
              "      <th>441</th>\n",
              "      <td>Warehouse manager</td>\n",
              "      <td>7</td>\n",
              "      <td>7</td>\n",
              "      <td>100.00</td>\n",
              "    </tr>\n",
              "    <tr>\n",
              "      <th>442</th>\n",
              "      <td>Contracting civil engineer</td>\n",
              "      <td>7</td>\n",
              "      <td>7</td>\n",
              "      <td>100.00</td>\n",
              "    </tr>\n",
              "  </tbody>\n",
              "</table>\n",
              "<p>443 rows × 4 columns</p>\n",
              "</div>"
            ],
            "text/plain": [
              "                                job  total_num_transactions  \\\n",
              "0                 Film/video editor                    9779   \n",
              "1               Exhibition designer                    9199   \n",
              "2                   Naval architect                    8684   \n",
              "3          Surveyor, land/geomatics                    8680   \n",
              "4                Materials engineer                    8270   \n",
              "..                              ...                     ...   \n",
              "438  Armed forces technical officer                       8   \n",
              "439             Information officer                       8   \n",
              "440                     Ship broker                       7   \n",
              "441               Warehouse manager                       7   \n",
              "442      Contracting civil engineer                       7   \n",
              "\n",
              "     total_num_fraud_trans  fraud_trans_per  \n",
              "0                       44             0.45  \n",
              "1                       51             0.55  \n",
              "2                       53             0.61  \n",
              "3                       50             0.58  \n",
              "4                       62             0.75  \n",
              "..                     ...              ...  \n",
              "438                      8           100.00  \n",
              "439                      8           100.00  \n",
              "440                      7           100.00  \n",
              "441                      7           100.00  \n",
              "442                      7           100.00  \n",
              "\n",
              "[443 rows x 4 columns]"
            ]
          },
          "execution_count": 26,
          "metadata": {},
          "output_type": "execute_result"
        }
      ],
      "source": [
        "# What is the proportion of fraud transactions ('fraud_trans_per') for each job category, and how does it relate to the total number of transactions and total fraud transactions by job\n",
        "\n",
        "total_trans_job = df.groupby('job')['trans_num'].count().reset_index()\n",
        "\n",
        "fraud_trans_df = df_fraud.groupby('job')['trans_num'].count().reset_index()\n",
        "\n",
        "fn_df = total_trans_job.merge(fraud_trans_df, how='inner', on=['job'])\n",
        "fn_df.rename(columns={'trans_num_x' : 'total_num_transactions', 'trans_num_y' : 'total_num_fraud_trans'}, inplace=True)\n",
        "fn_df['fraud_trans_per'] = round(fn_df['total_num_fraud_trans'] / fn_df['total_num_transactions'] *100, 2)\n",
        "\n",
        "fn_df.sort_values(by='total_num_transactions', ascending=False).reset_index(drop=True)\n"
      ]
    },
    {
      "cell_type": "code",
      "execution_count": 27,
      "metadata": {
        "colab": {
          "base_uri": "https://localhost:8080/",
          "height": 423
        },
        "id": "vtQlny3FM6BT",
        "outputId": "f116cd39-7c4e-4404-9411-c13fe2f85bfe"
      },
      "outputs": [
        {
          "data": {
            "text/html": [
              "<div>\n",
              "<style scoped>\n",
              "    .dataframe tbody tr th:only-of-type {\n",
              "        vertical-align: middle;\n",
              "    }\n",
              "\n",
              "    .dataframe tbody tr th {\n",
              "        vertical-align: top;\n",
              "    }\n",
              "\n",
              "    .dataframe thead th {\n",
              "        text-align: right;\n",
              "    }\n",
              "</style>\n",
              "<table border=\"1\" class=\"dataframe\">\n",
              "  <thead>\n",
              "    <tr style=\"text-align: right;\">\n",
              "      <th></th>\n",
              "      <th>job</th>\n",
              "      <th>total_num_transactions</th>\n",
              "      <th>total_num_fraud_trans</th>\n",
              "      <th>fraud_trans_per</th>\n",
              "    </tr>\n",
              "  </thead>\n",
              "  <tbody>\n",
              "    <tr>\n",
              "      <th>0</th>\n",
              "      <td>Armed forces technical officer</td>\n",
              "      <td>8</td>\n",
              "      <td>8</td>\n",
              "      <td>100.00</td>\n",
              "    </tr>\n",
              "    <tr>\n",
              "      <th>1</th>\n",
              "      <td>Engineer, site</td>\n",
              "      <td>12</td>\n",
              "      <td>12</td>\n",
              "      <td>100.00</td>\n",
              "    </tr>\n",
              "    <tr>\n",
              "      <th>2</th>\n",
              "      <td>Information officer</td>\n",
              "      <td>8</td>\n",
              "      <td>8</td>\n",
              "      <td>100.00</td>\n",
              "    </tr>\n",
              "    <tr>\n",
              "      <th>3</th>\n",
              "      <td>Legal secretary</td>\n",
              "      <td>12</td>\n",
              "      <td>12</td>\n",
              "      <td>100.00</td>\n",
              "    </tr>\n",
              "    <tr>\n",
              "      <th>4</th>\n",
              "      <td>Industrial buyer</td>\n",
              "      <td>10</td>\n",
              "      <td>10</td>\n",
              "      <td>100.00</td>\n",
              "    </tr>\n",
              "    <tr>\n",
              "      <th>...</th>\n",
              "      <td>...</td>\n",
              "      <td>...</td>\n",
              "      <td>...</td>\n",
              "      <td>...</td>\n",
              "    </tr>\n",
              "    <tr>\n",
              "      <th>438</th>\n",
              "      <td>Statistician</td>\n",
              "      <td>2599</td>\n",
              "      <td>3</td>\n",
              "      <td>0.12</td>\n",
              "    </tr>\n",
              "    <tr>\n",
              "      <th>439</th>\n",
              "      <td>Health physicist</td>\n",
              "      <td>3034</td>\n",
              "      <td>3</td>\n",
              "      <td>0.10</td>\n",
              "    </tr>\n",
              "    <tr>\n",
              "      <th>440</th>\n",
              "      <td>Contractor</td>\n",
              "      <td>3023</td>\n",
              "      <td>2</td>\n",
              "      <td>0.07</td>\n",
              "    </tr>\n",
              "    <tr>\n",
              "      <th>441</th>\n",
              "      <td>Chartered loss adjuster</td>\n",
              "      <td>5135</td>\n",
              "      <td>3</td>\n",
              "      <td>0.06</td>\n",
              "    </tr>\n",
              "    <tr>\n",
              "      <th>442</th>\n",
              "      <td>English as a second language teacher</td>\n",
              "      <td>4125</td>\n",
              "      <td>2</td>\n",
              "      <td>0.05</td>\n",
              "    </tr>\n",
              "  </tbody>\n",
              "</table>\n",
              "<p>443 rows × 4 columns</p>\n",
              "</div>"
            ],
            "text/plain": [
              "                                      job  total_num_transactions  \\\n",
              "0          Armed forces technical officer                       8   \n",
              "1                          Engineer, site                      12   \n",
              "2                     Information officer                       8   \n",
              "3                         Legal secretary                      12   \n",
              "4                        Industrial buyer                      10   \n",
              "..                                    ...                     ...   \n",
              "438                          Statistician                    2599   \n",
              "439                      Health physicist                    3034   \n",
              "440                            Contractor                    3023   \n",
              "441               Chartered loss adjuster                    5135   \n",
              "442  English as a second language teacher                    4125   \n",
              "\n",
              "     total_num_fraud_trans  fraud_trans_per  \n",
              "0                        8           100.00  \n",
              "1                       12           100.00  \n",
              "2                        8           100.00  \n",
              "3                       12           100.00  \n",
              "4                       10           100.00  \n",
              "..                     ...              ...  \n",
              "438                      3             0.12  \n",
              "439                      3             0.10  \n",
              "440                      2             0.07  \n",
              "441                      3             0.06  \n",
              "442                      2             0.05  \n",
              "\n",
              "[443 rows x 4 columns]"
            ]
          },
          "execution_count": 27,
          "metadata": {},
          "output_type": "execute_result"
        }
      ],
      "source": [
        "# Which job categories have the highest proportions of fraud transactions, and how are they ranked in descending order?\n",
        "\n",
        "fn_df.sort_values(by='fraud_trans_per', ascending=False).reset_index(drop=True)"
      ]
    },
    {
      "cell_type": "code",
      "execution_count": 28,
      "metadata": {
        "id": "q4HcLMVWM6BU"
      },
      "outputs": [],
      "source": [
        "# Creating a copy of the dataset to preserve the 'df' dataset for reference and analysis\n",
        "\n",
        "scaled_df = df.copy()"
      ]
    },
    {
      "cell_type": "code",
      "execution_count": 29,
      "metadata": {
        "id": "rGNaQm2jM6BU"
      },
      "outputs": [],
      "source": [
        "scaled_df.drop(columns={'cc_num', 'merchant', 'first', 'last', 'street', 'city', 'state', 'zip', 'dob', 'trans_num', 'merch_lat', 'unix_time', 'merch_long'}, inplace=True)"
      ]
    },
    {
      "cell_type": "code",
      "execution_count": 30,
      "metadata": {
        "id": "qBi_sCBGM6BV"
      },
      "outputs": [],
      "source": [
        "fraud_col = scaled_df['is_fraud']\n",
        "\n",
        "scaled_df.drop(columns=['is_fraud'], inplace=True)"
      ]
    },
    {
      "cell_type": "code",
      "execution_count": 31,
      "metadata": {
        "id": "em0H6tgKM6BV"
      },
      "outputs": [],
      "source": [
        "scaled_df = pd.concat([scaled_df, fraud_col], axis=1)"
      ]
    },
    {
      "cell_type": "code",
      "execution_count": 32,
      "metadata": {
        "colab": {
          "base_uri": "https://localhost:8080/",
          "height": 206
        },
        "id": "WlHF05N5M6BX",
        "outputId": "ec7f71bc-d2c0-4d88-af24-0b70d077cc13"
      },
      "outputs": [
        {
          "data": {
            "text/html": [
              "<div>\n",
              "<style scoped>\n",
              "    .dataframe tbody tr th:only-of-type {\n",
              "        vertical-align: middle;\n",
              "    }\n",
              "\n",
              "    .dataframe tbody tr th {\n",
              "        vertical-align: top;\n",
              "    }\n",
              "\n",
              "    .dataframe thead th {\n",
              "        text-align: right;\n",
              "    }\n",
              "</style>\n",
              "<table border=\"1\" class=\"dataframe\">\n",
              "  <thead>\n",
              "    <tr style=\"text-align: right;\">\n",
              "      <th></th>\n",
              "      <th>category</th>\n",
              "      <th>amt</th>\n",
              "      <th>gender</th>\n",
              "      <th>lat</th>\n",
              "      <th>long</th>\n",
              "      <th>city_pop</th>\n",
              "      <th>job</th>\n",
              "      <th>Year</th>\n",
              "      <th>Hour</th>\n",
              "      <th>Day</th>\n",
              "      <th>Month</th>\n",
              "      <th>Age</th>\n",
              "      <th>is_fraud</th>\n",
              "    </tr>\n",
              "  </thead>\n",
              "  <tbody>\n",
              "    <tr>\n",
              "      <th>0</th>\n",
              "      <td>misc_net</td>\n",
              "      <td>4.97</td>\n",
              "      <td>F</td>\n",
              "      <td>36.0788</td>\n",
              "      <td>-81.1781</td>\n",
              "      <td>3495</td>\n",
              "      <td>Psychologist, counselling</td>\n",
              "      <td>2019</td>\n",
              "      <td>0</td>\n",
              "      <td>1</td>\n",
              "      <td>1</td>\n",
              "      <td>31</td>\n",
              "      <td>0</td>\n",
              "    </tr>\n",
              "    <tr>\n",
              "      <th>1</th>\n",
              "      <td>grocery_pos</td>\n",
              "      <td>107.23</td>\n",
              "      <td>F</td>\n",
              "      <td>48.8878</td>\n",
              "      <td>-118.2105</td>\n",
              "      <td>149</td>\n",
              "      <td>Special educational needs teacher</td>\n",
              "      <td>2019</td>\n",
              "      <td>0</td>\n",
              "      <td>1</td>\n",
              "      <td>1</td>\n",
              "      <td>41</td>\n",
              "      <td>0</td>\n",
              "    </tr>\n",
              "    <tr>\n",
              "      <th>2</th>\n",
              "      <td>entertainment</td>\n",
              "      <td>220.11</td>\n",
              "      <td>M</td>\n",
              "      <td>42.1808</td>\n",
              "      <td>-112.2620</td>\n",
              "      <td>4154</td>\n",
              "      <td>Nature conservation officer</td>\n",
              "      <td>2019</td>\n",
              "      <td>0</td>\n",
              "      <td>1</td>\n",
              "      <td>1</td>\n",
              "      <td>57</td>\n",
              "      <td>0</td>\n",
              "    </tr>\n",
              "    <tr>\n",
              "      <th>3</th>\n",
              "      <td>gas_transport</td>\n",
              "      <td>45.00</td>\n",
              "      <td>M</td>\n",
              "      <td>46.2306</td>\n",
              "      <td>-112.1138</td>\n",
              "      <td>1939</td>\n",
              "      <td>Patent attorney</td>\n",
              "      <td>2019</td>\n",
              "      <td>0</td>\n",
              "      <td>1</td>\n",
              "      <td>1</td>\n",
              "      <td>52</td>\n",
              "      <td>0</td>\n",
              "    </tr>\n",
              "    <tr>\n",
              "      <th>4</th>\n",
              "      <td>misc_pos</td>\n",
              "      <td>41.96</td>\n",
              "      <td>M</td>\n",
              "      <td>38.4207</td>\n",
              "      <td>-79.4629</td>\n",
              "      <td>99</td>\n",
              "      <td>Dance movement psychotherapist</td>\n",
              "      <td>2019</td>\n",
              "      <td>0</td>\n",
              "      <td>1</td>\n",
              "      <td>1</td>\n",
              "      <td>33</td>\n",
              "      <td>0</td>\n",
              "    </tr>\n",
              "  </tbody>\n",
              "</table>\n",
              "</div>"
            ],
            "text/plain": [
              "        category     amt gender      lat      long  city_pop  \\\n",
              "0       misc_net    4.97      F  36.0788  -81.1781      3495   \n",
              "1    grocery_pos  107.23      F  48.8878 -118.2105       149   \n",
              "2  entertainment  220.11      M  42.1808 -112.2620      4154   \n",
              "3  gas_transport   45.00      M  46.2306 -112.1138      1939   \n",
              "4       misc_pos   41.96      M  38.4207  -79.4629        99   \n",
              "\n",
              "                                 job  Year  Hour  Day  Month  Age  is_fraud  \n",
              "0          Psychologist, counselling  2019     0    1      1   31         0  \n",
              "1  Special educational needs teacher  2019     0    1      1   41         0  \n",
              "2        Nature conservation officer  2019     0    1      1   57         0  \n",
              "3                    Patent attorney  2019     0    1      1   52         0  \n",
              "4     Dance movement psychotherapist  2019     0    1      1   33         0  "
            ]
          },
          "execution_count": 32,
          "metadata": {},
          "output_type": "execute_result"
        }
      ],
      "source": [
        "scaled_df.head()"
      ]
    },
    {
      "cell_type": "code",
      "execution_count": 33,
      "metadata": {
        "colab": {
          "base_uri": "https://localhost:8080/"
        },
        "id": "mztAiFO_RELF",
        "outputId": "8906292c-dad5-43c4-8f0b-adc97e05c110"
      },
      "outputs": [
        {
          "data": {
            "text/plain": [
              "job\n",
              "Film/video editor                      9779\n",
              "Exhibition designer                    9199\n",
              "Naval architect                        8684\n",
              "Surveyor, land/geomatics               8680\n",
              "Materials engineer                     8270\n",
              "Designer, ceramics/pottery             8225\n",
              "Systems developer                      7700\n",
              "IT trainer                             7679\n",
              "Financial adviser                      7659\n",
              "Environmental consultant               7547\n",
              "Chartered public finance accountant    7210\n",
              "Scientist, audiological                7174\n",
              "Chief Executive Officer                7172\n",
              "Copywriter, advertising                7146\n",
              "Comptroller                            6730\n",
              "Name: count, dtype: int64"
            ]
          },
          "execution_count": 33,
          "metadata": {},
          "output_type": "execute_result"
        }
      ],
      "source": [
        "scaled_df['job'].value_counts(ascending=False).head(15)"
      ]
    },
    {
      "cell_type": "code",
      "execution_count": 34,
      "metadata": {
        "id": "57_alzibQxpE"
      },
      "outputs": [],
      "source": [
        "# Top 15 job by Frequency in the dataset\n",
        "\n",
        "Top_15_job = scaled_df['job'].value_counts(ascending=False).head(15)\n",
        "\n",
        "# Categorizing 'job' into top 15 job and grouping the rest as 'Other'\n",
        "\n",
        "scaled_df['job'] = scaled_df['job'].apply(lambda x: x if x in Top_15_job else 'Other')"
      ]
    },
    {
      "cell_type": "code",
      "execution_count": 35,
      "metadata": {
        "colab": {
          "base_uri": "https://localhost:8080/",
          "height": 143
        },
        "id": "HPxAzWKrM6Ba",
        "outputId": "4faa3b56-158d-46cc-dd89-17d2f237e30e"
      },
      "outputs": [
        {
          "data": {
            "text/html": [
              "<div>\n",
              "<style scoped>\n",
              "    .dataframe tbody tr th:only-of-type {\n",
              "        vertical-align: middle;\n",
              "    }\n",
              "\n",
              "    .dataframe tbody tr th {\n",
              "        vertical-align: top;\n",
              "    }\n",
              "\n",
              "    .dataframe thead th {\n",
              "        text-align: right;\n",
              "    }\n",
              "</style>\n",
              "<table border=\"1\" class=\"dataframe\">\n",
              "  <thead>\n",
              "    <tr style=\"text-align: right;\">\n",
              "      <th></th>\n",
              "      <th>category</th>\n",
              "      <th>amt</th>\n",
              "      <th>gender</th>\n",
              "      <th>lat</th>\n",
              "      <th>long</th>\n",
              "      <th>city_pop</th>\n",
              "      <th>job</th>\n",
              "      <th>Year</th>\n",
              "      <th>Hour</th>\n",
              "      <th>Day</th>\n",
              "      <th>Month</th>\n",
              "      <th>Age</th>\n",
              "      <th>is_fraud</th>\n",
              "    </tr>\n",
              "  </thead>\n",
              "  <tbody>\n",
              "    <tr>\n",
              "      <th>0</th>\n",
              "      <td>misc_net</td>\n",
              "      <td>4.97</td>\n",
              "      <td>F</td>\n",
              "      <td>36.0788</td>\n",
              "      <td>-81.1781</td>\n",
              "      <td>3495</td>\n",
              "      <td>Other</td>\n",
              "      <td>2019</td>\n",
              "      <td>0</td>\n",
              "      <td>1</td>\n",
              "      <td>1</td>\n",
              "      <td>31</td>\n",
              "      <td>0</td>\n",
              "    </tr>\n",
              "    <tr>\n",
              "      <th>1</th>\n",
              "      <td>grocery_pos</td>\n",
              "      <td>107.23</td>\n",
              "      <td>F</td>\n",
              "      <td>48.8878</td>\n",
              "      <td>-118.2105</td>\n",
              "      <td>149</td>\n",
              "      <td>Other</td>\n",
              "      <td>2019</td>\n",
              "      <td>0</td>\n",
              "      <td>1</td>\n",
              "      <td>1</td>\n",
              "      <td>41</td>\n",
              "      <td>0</td>\n",
              "    </tr>\n",
              "    <tr>\n",
              "      <th>2</th>\n",
              "      <td>entertainment</td>\n",
              "      <td>220.11</td>\n",
              "      <td>M</td>\n",
              "      <td>42.1808</td>\n",
              "      <td>-112.2620</td>\n",
              "      <td>4154</td>\n",
              "      <td>Other</td>\n",
              "      <td>2019</td>\n",
              "      <td>0</td>\n",
              "      <td>1</td>\n",
              "      <td>1</td>\n",
              "      <td>57</td>\n",
              "      <td>0</td>\n",
              "    </tr>\n",
              "  </tbody>\n",
              "</table>\n",
              "</div>"
            ],
            "text/plain": [
              "        category     amt gender      lat      long  city_pop    job  Year  \\\n",
              "0       misc_net    4.97      F  36.0788  -81.1781      3495  Other  2019   \n",
              "1    grocery_pos  107.23      F  48.8878 -118.2105       149  Other  2019   \n",
              "2  entertainment  220.11      M  42.1808 -112.2620      4154  Other  2019   \n",
              "\n",
              "   Hour  Day  Month  Age  is_fraud  \n",
              "0     0    1      1   31         0  \n",
              "1     0    1      1   41         0  \n",
              "2     0    1      1   57         0  "
            ]
          },
          "execution_count": 35,
          "metadata": {},
          "output_type": "execute_result"
        }
      ],
      "source": [
        "# Display the first 3 rows of the 'scaled_df' DataFrame for a quick overview of the data\n",
        "\n",
        "scaled_df.head(3)"
      ]
    },
    {
      "cell_type": "code",
      "execution_count": 36,
      "metadata": {
        "colab": {
          "base_uri": "https://localhost:8080/",
          "height": 351
        },
        "id": "Yz7QLlqYM6Bb",
        "outputId": "a476cacd-1e14-43eb-8ac7-92c58503cbdd"
      },
      "outputs": [
        {
          "data": {
            "image/png": "[encoded data removed]",
            "text/plain": [
              "<Figure size 500x400 with 1 Axes>"
            ]
          },
          "metadata": {},
          "output_type": "display_data"
        }
      ],
      "source": [
        "# Create a boxplot to visualize the distribution of the 'amt' column\n",
        "\n",
        "plt.figure(figsize=(5,4))\n",
        "sns.boxplot(scaled_df['amt'])\n",
        "\n",
        "plt.show()"
      ]
    },
    {
      "cell_type": "code",
      "execution_count": 37,
      "metadata": {
        "colab": {
          "base_uri": "https://localhost:8080/",
          "height": 365
        },
        "id": "xCnlUeR4M6Bb",
        "outputId": "f3c9d8f7-24bf-4c78-9767-ea4ad6d7dbec"
      },
      "outputs": [
        {
          "data": {
            "image/png": "[encoded data removed]",
            "text/plain": [
              "<Figure size 500x400 with 1 Axes>"
            ]
          },
          "metadata": {},
          "output_type": "display_data"
        }
      ],
      "source": [
        "# Create a boxplot to visualize the distribution of the 'City Population' column\n",
        "\n",
        "plt.figure(figsize=(5,4))\n",
        "sns.boxplot(scaled_df['city_pop'])\n",
        "\n",
        "plt.show()"
      ]
    },
    {
      "cell_type": "code",
      "execution_count": 38,
      "metadata": {
        "colab": {
          "base_uri": "https://localhost:8080/"
        },
        "id": "zYxswdkHM6Bb",
        "outputId": "093ea690-4367-4054-f6c9-9c954c894846"
      },
      "outputs": [
        {
          "name": "stdout",
          "output_type": "stream",
          "text": [
            "42.277873790051174\n",
            "5.593853066842104\n"
          ]
        }
      ],
      "source": [
        "# Calculate and print the skewness of the 'amt' and 'city_pop' columns in the 'scaled_df' DataFrame\n",
        "\n",
        "print(scaled_df['amt'].skew())\n",
        "print(scaled_df['city_pop'].skew())"
      ]
    },
    {
      "cell_type": "code",
      "execution_count": 39,
      "metadata": {
        "colab": {
          "base_uri": "https://localhost:8080/"
        },
        "id": "BUXkdA6iM6Bb",
        "outputId": "6361173d-7a46-4231-97f6-5a0aea9696a2"
      },
      "outputs": [
        {
          "data": {
            "text/plain": [
              "-0.015544943000419623"
            ]
          },
          "execution_count": 39,
          "metadata": {},
          "output_type": "execute_result"
        }
      ],
      "source": [
        "# Handling Skewness using Box-Cox Transformation\n",
        "# Apply Box-Cox transformation to 'amt' column\n",
        "\n",
        "scaled_df['amt'] = boxcox(scaled_df['amt'])[0]\n",
        "scaled_df['amt'].skew()\n"
      ]
    },
    {
      "cell_type": "code",
      "execution_count": 40,
      "metadata": {
        "colab": {
          "base_uri": "https://localhost:8080/"
        },
        "id": "4oyeBSMOM6Bl",
        "outputId": "09012628-1cf5-4b57-b94a-3e662cc48dae"
      },
      "outputs": [
        {
          "data": {
            "text/plain": [
              "0.05750405771141424"
            ]
          },
          "execution_count": 40,
          "metadata": {},
          "output_type": "execute_result"
        }
      ],
      "source": [
        "# Apply Box-Cox transformation to 'city_pop' column\n",
        "\n",
        "scaled_df['city_pop'] = boxcox(scaled_df['city_pop'])[0]\n",
        "scaled_df['city_pop'].skew()"
      ]
    },
    {
      "cell_type": "code",
      "execution_count": 41,
      "metadata": {
        "colab": {
          "base_uri": "https://localhost:8080/",
          "height": 472
        },
        "id": "cJKc4GuhM6Bl",
        "outputId": "028fa7ed-a2a5-4ed5-936b-7a4eee59f219"
      },
      "outputs": [
        {
          "data": {
            "image/png": "[encoded data removed]",
            "text/plain": [
              "<Figure size 640x480 with 1 Axes>"
            ]
          },
          "metadata": {},
          "output_type": "display_data"
        }
      ],
      "source": [
        "# Visualizing the Skewness After Transformation with a Histogram\n",
        "\n",
        "sns.histplot(scaled_df['amt'], bins=25, kde=True, alpha=0.7, color='#90e0ef')\n",
        "plt.title('Distribution of Amount', color='#0077b6')\n",
        "plt.xlabel('Amount')\n",
        "plt.ylabel('Frequency')\n",
        "\n",
        "plt.show()"
      ]
    },
    {
      "cell_type": "code",
      "execution_count": 42,
      "metadata": {
        "colab": {
          "base_uri": "https://localhost:8080/",
          "height": 333
        },
        "id": "Ps5qdl7TM6Bm",
        "outputId": "46d1824c-106e-480e-a369-490ee60f50fa"
      },
      "outputs": [
        {
          "data": {
            "image/png": "[encoded data removed]",
            "text/plain": [
              "<Figure size 700x300 with 1 Axes>"
            ]
          },
          "metadata": {},
          "output_type": "display_data"
        }
      ],
      "source": [
        "# visualize the distribution of 'city_pop' in the 'scaled_df' after the Boxcox Transformation\n",
        "\n",
        "plt.figure(figsize=(7,3))\n",
        "custom_palette = sns.color_palette('Set2')\n",
        "sns.boxplot(scaled_df['city_pop'], palette=custom_palette, orient='h')\n",
        "plt.title('Distribution of Amount', color='#0077b6')\n",
        "\n",
        "plt.show()"
      ]
    },
    {
      "cell_type": "code",
      "execution_count": 43,
      "metadata": {
        "colab": {
          "base_uri": "https://localhost:8080/",
          "height": 333
        },
        "id": "J91gALkkVRXa",
        "outputId": "f84a9773-3c35-4efc-9dac-2e4b86f4eb1d"
      },
      "outputs": [
        {
          "data": {
            "image/png": "[encoded data removed]",
            "text/plain": [
              "<Figure size 700x300 with 1 Axes>"
            ]
          },
          "metadata": {},
          "output_type": "display_data"
        }
      ],
      "source": [
        "# visualize the distribution of 'city_pop' in the 'scaled_df' after the Boxcox Transformation\n",
        "\n",
        "plt.figure(figsize=(7,3))\n",
        "custom_palette = sns.color_palette('Set2')\n",
        "sns.boxplot(scaled_df['amt'], palette=custom_palette, orient='h')\n",
        "plt.title('Distribution of Amount', color='#0077b6')\n",
        "\n",
        "plt.show()"
      ]
    },
    {
      "cell_type": "code",
      "execution_count": 44,
      "metadata": {
        "colab": {
          "base_uri": "https://localhost:8080/"
        },
        "id": "gyWXl7w2Vf4d",
        "outputId": "3e4694c2-bc1a-44b4-c4d2-a280f5852d9c"
      },
      "outputs": [
        {
          "name": "stdout",
          "output_type": "stream",
          "text": [
            "For Amount\n",
            "\n",
            "Q1: 2.6408501906321225\n",
            "Q3: 5.994031299944137\n",
            "IQR: 3.3531811093120143\n",
            "Lower Bound: -2.3889214733358988\n",
            "Upper Bound: 11.023802963912157\n",
            "\n"
          ]
        }
      ],
      "source": [
        "# Calculating IQR for 'Amount'\n",
        "\n",
        "Q1_amt_total = scaled_df['amt'].quantile(0.25)\n",
        "Q3_amt_total = scaled_df['amt'].quantile(0.75)\n",
        "\n",
        "IQR_amt_total = Q3_amt_total - Q1_amt_total\n",
        "\n",
        "# Define the lower and upper bounds\n",
        "\n",
        "lower_bound_amt_total = Q1_amt_total - 1.5 * IQR_amt_total\n",
        "upper_bound_amt_total = Q3_amt_total + 1.5 * IQR_amt_total\n",
        "\n",
        "# Print the calculated values\n",
        "print(\"For Amount\\n\")\n",
        "print(f'Q1: {Q1_amt_total}')\n",
        "print(f'Q3: {Q3_amt_total}')\n",
        "print(f'IQR: {IQR_amt_total}')\n",
        "print(f'Lower Bound: {lower_bound_amt_total}')\n",
        "print(f'Upper Bound: {upper_bound_amt_total}\\n')"
      ]
    },
    {
      "cell_type": "code",
      "execution_count": 45,
      "metadata": {
        "colab": {
          "base_uri": "https://localhost:8080/"
        },
        "id": "VK7VxSwKVfvS",
        "outputId": "e04f608c-cfa0-4b1b-899f-0e5f3a1467a1"
      },
      "outputs": [
        {
          "name": "stdout",
          "output_type": "stream",
          "text": [
            "Total outliers in Funding total usd : 5353\n"
          ]
        }
      ],
      "source": [
        "# Identify outliers\n",
        "\n",
        "outliers_amt = scaled_df[(scaled_df['amt'] < lower_bound_amt_total) | (scaled_df['amt'] > upper_bound_amt_total)]\n",
        "\n",
        "print(f'Total outliers in Funding total usd : {len(outliers_amt)}')"
      ]
    },
    {
      "cell_type": "markdown",
      "metadata": {
        "id": "2qenWismWYFe"
      },
      "source": [
        "**Removing outliers from the Dataset**"
      ]
    },
    {
      "cell_type": "code",
      "execution_count": 46,
      "metadata": {
        "colab": {
          "base_uri": "https://localhost:8080/"
        },
        "id": "uUzXA5c_WYrR",
        "outputId": "73d7135b-27e3-46d0-893f-da50f249be0c"
      },
      "outputs": [
        {
          "data": {
            "text/plain": [
              "5353"
            ]
          },
          "execution_count": 46,
          "metadata": {},
          "output_type": "execute_result"
        }
      ],
      "source": [
        "rows_to_drop = outliers_amt.index.union(outliers_amt.index)\n",
        "\n",
        "len(rows_to_drop)"
      ]
    },
    {
      "cell_type": "code",
      "execution_count": 47,
      "metadata": {
        "id": "e1zBZUGIWiQd"
      },
      "outputs": [],
      "source": [
        "# Eliminating Outliers\n",
        "\n",
        "scaled_df.drop(rows_to_drop, inplace=True)"
      ]
    },
    {
      "cell_type": "markdown",
      "metadata": {
        "id": "zj_c0qckXCHo"
      },
      "source": [
        "### **Univariate Analysis**"
      ]
    },
    {
      "cell_type": "code",
      "execution_count": 48,
      "metadata": {
        "colab": {
          "base_uri": "https://localhost:8080/",
          "height": 472
        },
        "id": "CKtC1CN-M6Bn",
        "outputId": "d58fbc4c-79cb-4064-ada1-f5dd8f661871"
      },
      "outputs": [
        {
          "data": {
            "image/png": "[encoded data removed]",
            "text/plain": [
              "<Figure size 640x480 with 1 Axes>"
            ]
          },
          "metadata": {},
          "output_type": "display_data"
        }
      ],
      "source": [
        "# Visualizing the Amount column After Transformation\n",
        "\n",
        "sns.distplot(scaled_df['amt'], bins=15, color='#90e0ef', hist_kws={\"edgecolor\": \"#00FF7F\"}, kde=True)\n",
        "plt.title('Univariate Analysis : Amount', color='#0077b6')\n",
        "plt.xlabel('Amount')\n",
        "plt.ylabel('Frequency')\n",
        "\n",
        "plt.show()"
      ]
    },
    {
      "cell_type": "code",
      "execution_count": 49,
      "metadata": {
        "colab": {
          "base_uri": "https://localhost:8080/",
          "height": 472
        },
        "id": "tpEiSm0UM6Bo",
        "outputId": "82f8d4f3-f6b1-431e-ca2e-e65551171caf"
      },
      "outputs": [
        {
          "data": {
            "image/png": "[encoded data removed]",
            "text/plain": [
              "<Figure size 640x480 with 1 Axes>"
            ]
          },
          "metadata": {},
          "output_type": "display_data"
        }
      ],
      "source": [
        "# Visualizing the Distribution Age column\n",
        "\n",
        "sns.distplot(scaled_df['Age'], bins=25, color='#90e0ef', hist_kws={\"edgecolor\": \"#00FF7F\"}, kde=True)\n",
        "plt.title('Univariate Analysis : Age', color='#0077b6')\n",
        "plt.xlabel('Age')\n",
        "plt.ylabel('Frequency')\n",
        "\n",
        "plt.show()"
      ]
    },
    {
      "cell_type": "code",
      "execution_count": 50,
      "metadata": {
        "colab": {
          "base_uri": "https://localhost:8080/",
          "height": 468
        },
        "id": "SzNIsONkM6Br",
        "outputId": "807d80e8-d851-4278-9d2f-2921d1e8bf10"
      },
      "outputs": [
        {
          "data": {
            "image/png": "[encoded data removed]",
            "text/plain": [
              "<Figure size 500x500 with 1 Axes>"
            ]
          },
          "metadata": {},
          "output_type": "display_data"
        }
      ],
      "source": [
        "# Visualizing the Distribution Gender column with a Barplot\n",
        "\n",
        "plt.figure(figsize=(5,5))\n",
        "sns.barplot(x=['Female', 'Male'], y=scaled_df['gender'].value_counts(), palette={'Female': '#5e60ce', 'Male': '#80ffdb'})\n",
        "plt.title('Gender Distribution', color='#001d3d')\n",
        "plt.ylabel('Frequency')\n",
        "\n",
        "plt.show()"
      ]
    },
    {
      "cell_type": "code",
      "execution_count": 51,
      "metadata": {
        "colab": {
          "base_uri": "https://localhost:8080/",
          "height": 367
        },
        "id": "7Z9rd6ZjM6Bt",
        "outputId": "d3fc8818-ef0b-4020-aa75-888a6b7fdbc3"
      },
      "outputs": [
        {
          "data": {
            "image/png": "[encoded data removed]",
            "text/plain": [
              "<Figure size 600x400 with 1 Axes>"
            ]
          },
          "metadata": {},
          "output_type": "display_data"
        }
      ],
      "source": [
        "# Visualizing the Distribution Target Variable - is_fraud column with a Barplot\n",
        "\n",
        "plt.figure(figsize=(6,4))\n",
        "plt.pie(scaled_df['is_fraud'].value_counts(), labels=['Legitimate', 'Fraud'], colors=['#e7c6ff', '#80ffdb'], autopct='%1.1f%%', explode=(0.2, 0))\n",
        "plt.title('Univariate Analysis - Fraud Distribution', color='#001d3d')\n",
        "\n",
        "plt.show()"
      ]
    },
    {
      "cell_type": "code",
      "execution_count": 52,
      "metadata": {
        "colab": {
          "base_uri": "https://localhost:8080/"
        },
        "id": "XWYnxKhvXw-k",
        "outputId": "2818d6ee-cd0d-4730-ee02-8e12ea64ffc3"
      },
      "outputs": [
        {
          "data": {
            "text/plain": [
              "is_fraud\n",
              "0    1289169\n",
              "1       7506\n",
              "Name: count, dtype: int64"
            ]
          },
          "execution_count": 52,
          "metadata": {},
          "output_type": "execute_result"
        }
      ],
      "source": [
        "df['is_fraud'].value_counts()"
      ]
    },
    {
      "cell_type": "markdown",
      "metadata": {
        "id": "vV2PTqvrM6Bv"
      },
      "source": [
        "### Model Building on Imbalanced Data\n",
        "* When dealing with heavily imbalanced data, such as in this case where only 0.4% of the transactions are labeled as fraudulent (class 1) and 99.6% are non-fraudulent (class 0), it's important to select appropriate metrics for model evaluation. Using accuracy as the sole evaluation metric is not recommended in such situations.\n",
        "* The reason for this is that if a model simply predicts the majority class (class 0) for all data points, it will still achieve an accuracy of 99.6% because it correctly predicts the majority class. However, this doesn't provide any meaningful information about the model's ability to detect the minority class (class 1), which is often the primary concern in fraud detection scenarios.\n",
        "* Here are some Evaluation Metrics I performed : Area Under the ROC Curve (AUC-ROC) and AUC-PR (Area Under the Precision-Recall Curve).\n",
        "* When dealing with imbalanced data, there are several techniques and strategies that can be employed to build better models. Here are some approaches I consider for handling imbalanced datasets:\n",
        "* Resampling Techniques: Synthetic Minority Over-sampling Technique (SMOTE) And Random Oversampling."
      ]
    },
    {
      "cell_type": "markdown",
      "metadata": {
        "id": "kgctcdxEZtVw"
      },
      "source": [
        "**Splitting the Data into X & Y**"
      ]
    },
    {
      "cell_type": "code",
      "execution_count": 53,
      "metadata": {
        "colab": {
          "base_uri": "https://localhost:8080/"
        },
        "id": "d0KAYxaIM6Bx",
        "outputId": "6d390255-d285-4949-b16a-f166225fb388"
      },
      "outputs": [
        {
          "name": "stdout",
          "output_type": "stream",
          "text": [
            "The Shape of X: (1291322, 12)\n",
            "The Shape of Y: (1291322,)\n"
          ]
        }
      ],
      "source": [
        "x = scaled_df.drop(columns=['is_fraud'])\n",
        "y = scaled_df['is_fraud']\n",
        "\n",
        "print(f'The Shape of X: {x.shape}')\n",
        "print(f'The Shape of Y: {y.shape}')"
      ]
    },
    {
      "cell_type": "markdown",
      "metadata": {
        "id": "Mjd-Iv9jZzbS"
      },
      "source": [
        "**Splitting the dataset into training and testing sets**\n"
      ]
    },
    {
      "cell_type": "code",
      "execution_count": 54,
      "metadata": {
        "id": "7NxKe5llM6Bz"
      },
      "outputs": [],
      "source": [
        "from sklearn.model_selection import train_test_split\n",
        "xtrain, xtest, ytrain, ytest = train_test_split(x, y, train_size=0.8, random_state=1)"
      ]
    },
    {
      "cell_type": "code",
      "execution_count": 55,
      "metadata": {
        "colab": {
          "base_uri": "https://localhost:8080/"
        },
        "id": "P4RoEVxYZ61k",
        "outputId": "2af718c7-ab9b-4caa-9319-9affdcd94d7d"
      },
      "outputs": [
        {
          "name": "stdout",
          "output_type": "stream",
          "text": [
            "The Shape of xtrain: (1033057, 12)\n",
            "The Shape of ytrain: (1033057,)\n",
            "\n",
            "The Shape of xtest: (258265, 12)\n",
            "The Shape of ytest: (258265,)\n"
          ]
        }
      ],
      "source": [
        "print(f'The Shape of xtrain: {xtrain.shape}')\n",
        "print(f'The Shape of ytrain: {ytrain.shape}\\n')\n",
        "print(f'The Shape of xtest: {xtest.shape}')\n",
        "print(f'The Shape of ytest: {ytest.shape}')"
      ]
    },
    {
      "cell_type": "markdown",
      "metadata": {
        "id": "pxP3GdoHaBOG"
      },
      "source": [
        "#### **Data Scaling**"
      ]
    },
    {
      "cell_type": "code",
      "execution_count": 57,
      "metadata": {
        "colab": {
          "base_uri": "https://localhost:8080/",
          "height": 112
        },
        "id": "tlJoPJqGaEFR",
        "outputId": "f79b9d22-d8aa-48b8-942f-8d3f5bce6be6"
      },
      "outputs": [
        {
          "data": {
            "text/html": [
              "<div>\n",
              "<style scoped>\n",
              "    .dataframe tbody tr th:only-of-type {\n",
              "        vertical-align: middle;\n",
              "    }\n",
              "\n",
              "    .dataframe tbody tr th {\n",
              "        vertical-align: top;\n",
              "    }\n",
              "\n",
              "    .dataframe thead th {\n",
              "        text-align: right;\n",
              "    }\n",
              "</style>\n",
              "<table border=\"1\" class=\"dataframe\">\n",
              "  <thead>\n",
              "    <tr style=\"text-align: right;\">\n",
              "      <th></th>\n",
              "      <th>category</th>\n",
              "      <th>amt</th>\n",
              "      <th>gender</th>\n",
              "      <th>lat</th>\n",
              "      <th>long</th>\n",
              "      <th>city_pop</th>\n",
              "      <th>job</th>\n",
              "      <th>Year</th>\n",
              "      <th>Hour</th>\n",
              "      <th>Day</th>\n",
              "      <th>Month</th>\n",
              "      <th>Age</th>\n",
              "      <th>is_fraud</th>\n",
              "    </tr>\n",
              "  </thead>\n",
              "  <tbody>\n",
              "    <tr>\n",
              "      <th>0</th>\n",
              "      <td>misc_net</td>\n",
              "      <td>1.784882</td>\n",
              "      <td>F</td>\n",
              "      <td>36.0788</td>\n",
              "      <td>-81.1781</td>\n",
              "      <td>5.398057</td>\n",
              "      <td>Other</td>\n",
              "      <td>2019</td>\n",
              "      <td>0</td>\n",
              "      <td>1</td>\n",
              "      <td>1</td>\n",
              "      <td>31</td>\n",
              "      <td>0</td>\n",
              "    </tr>\n",
              "    <tr>\n",
              "      <th>1</th>\n",
              "      <td>grocery_pos</td>\n",
              "      <td>6.456618</td>\n",
              "      <td>F</td>\n",
              "      <td>48.8878</td>\n",
              "      <td>-118.2105</td>\n",
              "      <td>3.854018</td>\n",
              "      <td>Other</td>\n",
              "      <td>2019</td>\n",
              "      <td>0</td>\n",
              "      <td>1</td>\n",
              "      <td>1</td>\n",
              "      <td>41</td>\n",
              "      <td>0</td>\n",
              "    </tr>\n",
              "  </tbody>\n",
              "</table>\n",
              "</div>"
            ],
            "text/plain": [
              "      category       amt gender      lat      long  city_pop    job  Year  \\\n",
              "0     misc_net  1.784882      F  36.0788  -81.1781  5.398057  Other  2019   \n",
              "1  grocery_pos  6.456618      F  48.8878 -118.2105  3.854018  Other  2019   \n",
              "\n",
              "   Hour  Day  Month  Age  is_fraud  \n",
              "0     0    1      1   31         0  \n",
              "1     0    1      1   41         0  "
            ]
          },
          "execution_count": 57,
          "metadata": {},
          "output_type": "execute_result"
        }
      ],
      "source": [
        "scaled_df.head(2)"
      ]
    },
    {
      "cell_type": "code",
      "execution_count": 58,
      "metadata": {
        "id": "jvHFhAGqZ6zM"
      },
      "outputs": [],
      "source": [
        "# Initialize the scaler\n",
        "scaler = StandardScaler()\n",
        "\n",
        "# Define the numerical features to be scaled\n",
        "numerical_features = ['amt', 'lat', 'long', 'city_pop', 'Year', 'Age', 'Hour', 'Day', 'Month']\n",
        "\n",
        "# Performing scaling on the numerical features for training data\n",
        "\n",
        "xtrain_scaled = xtrain.copy()\n",
        "xtrain_scaled[numerical_features] = scaler.fit_transform(xtrain[numerical_features])\n",
        "\n",
        "# Performing scaling on the numerical features for test data\n",
        "\n",
        "xtest_scaled = xtest.copy()\n",
        "xtest_scaled[numerical_features] = scaler.transform(xtest[numerical_features])"
      ]
    },
    {
      "cell_type": "markdown",
      "metadata": {
        "id": "ihk062ydav7M"
      },
      "source": [
        "#### **Data Encoding**"
      ]
    },
    {
      "cell_type": "code",
      "execution_count": 59,
      "metadata": {
        "id": "A0UO1s0dZ6wv"
      },
      "outputs": [],
      "source": [
        "class OneHotEncoder:\n",
        "    def __init__(self, column1, column2, column3, prefix1=None, prefix2=None, prefix3=None):\n",
        "        self.column1 = column1\n",
        "        self.column2 = column2\n",
        "        self.column3 = column3\n",
        "        self.prefix1 = prefix1 if prefix1 else column1\n",
        "        self.prefix2 = prefix2 if prefix2 else column2\n",
        "        self.prefix3 = prefix3 if prefix3 else column3\n",
        "\n",
        "    def fit(self, X, y=None):\n",
        "        return self\n",
        "\n",
        "    def transform(self, X):\n",
        "        # Perform one-hot encoding for column1\n",
        "        encoded_df1 = pd.get_dummies(X[self.column1], prefix=self.prefix1)\n",
        "\n",
        "        # Perform one-hot encoding for column2\n",
        "        encoded_df2 = pd.get_dummies(X[self.column2], prefix=self.prefix2)\n",
        "\n",
        "        # Perform one-hot encoding for column2\n",
        "        encoded_df3 = pd.get_dummies(X[self.column3], prefix=self.prefix3)\n",
        "\n",
        "        # Convert DataFrames to integers\n",
        "        encoded_df1 = encoded_df1.astype(int)\n",
        "        encoded_df2 = encoded_df2.astype(int)\n",
        "        encoded_df3 = encoded_df3.astype(int)\n",
        "\n",
        "        # Concatenate encoded DataFrames with original DataFrame\n",
        "        X_encoded = pd.concat([X, encoded_df1, encoded_df2, encoded_df3], axis=1)\n",
        "\n",
        "        # Drop original columns after encoding\n",
        "        X_encoded.drop(columns=[self.column1, self.column2, self.column3], inplace=True)\n",
        "\n",
        "        return X_encoded\n",
        "\n",
        "    def fit_transform(self, X, y=None):\n",
        "        return self.transform(X)\n"
      ]
    },
    {
      "cell_type": "code",
      "execution_count": 60,
      "metadata": {
        "id": "eI7Lr1zLZ6uN"
      },
      "outputs": [],
      "source": [
        "\n",
        "# Define the columns to be one-hot encoded\n",
        "column1 = 'category'\n",
        "column2 = 'gender'\n",
        "column3 = 'job'\n",
        "\n",
        "# Initialize TwoColumnOneHotEncoder\n",
        "encoder = OneHotEncoder(column1, column2, column3, prefix1='category', prefix2='gender', prefix3='job')\n",
        "\n",
        "# Apply transformation on the DataFrame\n",
        "xtrain_encoded = encoder.fit_transform(xtrain_scaled)\n",
        "xtest_encoded = encoder.fit_transform(xtest_scaled)"
      ]
    },
    {
      "cell_type": "code",
      "execution_count": 61,
      "metadata": {
        "colab": {
          "base_uri": "https://localhost:8080/",
          "height": 184
        },
        "id": "7nLd2jCwZ6o6",
        "outputId": "cf8d50fe-f1b8-4665-95f8-a6f33116c4c4"
      },
      "outputs": [
        {
          "data": {
            "text/html": [
              "<div>\n",
              "<style scoped>\n",
              "    .dataframe tbody tr th:only-of-type {\n",
              "        vertical-align: middle;\n",
              "    }\n",
              "\n",
              "    .dataframe tbody tr th {\n",
              "        vertical-align: top;\n",
              "    }\n",
              "\n",
              "    .dataframe thead th {\n",
              "        text-align: right;\n",
              "    }\n",
              "</style>\n",
              "<table border=\"1\" class=\"dataframe\">\n",
              "  <thead>\n",
              "    <tr style=\"text-align: right;\">\n",
              "      <th></th>\n",
              "      <th>amt</th>\n",
              "      <th>lat</th>\n",
              "      <th>long</th>\n",
              "      <th>city_pop</th>\n",
              "      <th>Year</th>\n",
              "      <th>Hour</th>\n",
              "      <th>Day</th>\n",
              "      <th>Month</th>\n",
              "      <th>Age</th>\n",
              "      <th>category_entertainment</th>\n",
              "      <th>category_food_dining</th>\n",
              "      <th>category_gas_transport</th>\n",
              "      <th>category_grocery_net</th>\n",
              "      <th>category_grocery_pos</th>\n",
              "      <th>category_health_fitness</th>\n",
              "      <th>category_home</th>\n",
              "      <th>category_kids_pets</th>\n",
              "      <th>category_misc_net</th>\n",
              "      <th>category_misc_pos</th>\n",
              "      <th>category_personal_care</th>\n",
              "      <th>category_shopping_net</th>\n",
              "      <th>category_shopping_pos</th>\n",
              "      <th>category_travel</th>\n",
              "      <th>gender_F</th>\n",
              "      <th>gender_M</th>\n",
              "      <th>job_Chartered public finance accountant</th>\n",
              "      <th>job_Chief Executive Officer</th>\n",
              "      <th>job_Comptroller</th>\n",
              "      <th>job_Copywriter, advertising</th>\n",
              "      <th>job_Designer, ceramics/pottery</th>\n",
              "      <th>job_Environmental consultant</th>\n",
              "      <th>job_Exhibition designer</th>\n",
              "      <th>job_Film/video editor</th>\n",
              "      <th>job_Financial adviser</th>\n",
              "      <th>job_IT trainer</th>\n",
              "      <th>job_Materials engineer</th>\n",
              "      <th>job_Naval architect</th>\n",
              "      <th>job_Other</th>\n",
              "      <th>job_Scientist, audiological</th>\n",
              "      <th>job_Surveyor, land/geomatics</th>\n",
              "      <th>job_Systems developer</th>\n",
              "    </tr>\n",
              "  </thead>\n",
              "  <tbody>\n",
              "    <tr>\n",
              "      <th>273124</th>\n",
              "      <td>0.026020</td>\n",
              "      <td>0.869707</td>\n",
              "      <td>0.939346</td>\n",
              "      <td>0.507289</td>\n",
              "      <td>-0.633897</td>\n",
              "      <td>-1.289870</td>\n",
              "      <td>-0.486734</td>\n",
              "      <td>-0.334179</td>\n",
              "      <td>1.204313</td>\n",
              "      <td>1</td>\n",
              "      <td>0</td>\n",
              "      <td>0</td>\n",
              "      <td>0</td>\n",
              "      <td>0</td>\n",
              "      <td>0</td>\n",
              "      <td>0</td>\n",
              "      <td>0</td>\n",
              "      <td>0</td>\n",
              "      <td>0</td>\n",
              "      <td>0</td>\n",
              "      <td>0</td>\n",
              "      <td>0</td>\n",
              "      <td>0</td>\n",
              "      <td>0</td>\n",
              "      <td>1</td>\n",
              "      <td>0</td>\n",
              "      <td>0</td>\n",
              "      <td>0</td>\n",
              "      <td>0</td>\n",
              "      <td>0</td>\n",
              "      <td>0</td>\n",
              "      <td>0</td>\n",
              "      <td>0</td>\n",
              "      <td>0</td>\n",
              "      <td>0</td>\n",
              "      <td>0</td>\n",
              "      <td>0</td>\n",
              "      <td>1</td>\n",
              "      <td>0</td>\n",
              "      <td>0</td>\n",
              "      <td>0</td>\n",
              "    </tr>\n",
              "    <tr>\n",
              "      <th>78151</th>\n",
              "      <td>0.340895</td>\n",
              "      <td>-1.592341</td>\n",
              "      <td>-0.048440</td>\n",
              "      <td>1.164416</td>\n",
              "      <td>-0.633897</td>\n",
              "      <td>-1.730066</td>\n",
              "      <td>0.877642</td>\n",
              "      <td>-1.212136</td>\n",
              "      <td>-1.207714</td>\n",
              "      <td>0</td>\n",
              "      <td>0</td>\n",
              "      <td>0</td>\n",
              "      <td>0</td>\n",
              "      <td>1</td>\n",
              "      <td>0</td>\n",
              "      <td>0</td>\n",
              "      <td>0</td>\n",
              "      <td>0</td>\n",
              "      <td>0</td>\n",
              "      <td>0</td>\n",
              "      <td>0</td>\n",
              "      <td>0</td>\n",
              "      <td>0</td>\n",
              "      <td>0</td>\n",
              "      <td>1</td>\n",
              "      <td>0</td>\n",
              "      <td>0</td>\n",
              "      <td>0</td>\n",
              "      <td>0</td>\n",
              "      <td>0</td>\n",
              "      <td>0</td>\n",
              "      <td>0</td>\n",
              "      <td>0</td>\n",
              "      <td>0</td>\n",
              "      <td>0</td>\n",
              "      <td>0</td>\n",
              "      <td>0</td>\n",
              "      <td>1</td>\n",
              "      <td>0</td>\n",
              "      <td>0</td>\n",
              "      <td>0</td>\n",
              "    </tr>\n",
              "  </tbody>\n",
              "</table>\n",
              "</div>"
            ],
            "text/plain": [
              "             amt       lat      long  city_pop      Year      Hour       Day  \\\n",
              "273124  0.026020  0.869707  0.939346  0.507289 -0.633897 -1.289870 -0.486734   \n",
              "78151   0.340895 -1.592341 -0.048440  1.164416 -0.633897 -1.730066  0.877642   \n",
              "\n",
              "           Month       Age  category_entertainment  category_food_dining  \\\n",
              "273124 -0.334179  1.204313                       1                     0   \n",
              "78151  -1.212136 -1.207714                       0                     0   \n",
              "\n",
              "        category_gas_transport  category_grocery_net  category_grocery_pos  \\\n",
              "273124                       0                     0                     0   \n",
              "78151                        0                     0                     1   \n",
              "\n",
              "        category_health_fitness  category_home  category_kids_pets  \\\n",
              "273124                        0              0                   0   \n",
              "78151                         0              0                   0   \n",
              "\n",
              "        category_misc_net  category_misc_pos  category_personal_care  \\\n",
              "273124                  0                  0                       0   \n",
              "78151                   0                  0                       0   \n",
              "\n",
              "        category_shopping_net  category_shopping_pos  category_travel  \\\n",
              "273124                      0                      0                0   \n",
              "78151                       0                      0                0   \n",
              "\n",
              "        gender_F  gender_M  job_Chartered public finance accountant  \\\n",
              "273124         0         1                                        0   \n",
              "78151          0         1                                        0   \n",
              "\n",
              "        job_Chief Executive Officer  job_Comptroller  \\\n",
              "273124                            0                0   \n",
              "78151                             0                0   \n",
              "\n",
              "        job_Copywriter, advertising  job_Designer, ceramics/pottery  \\\n",
              "273124                            0                               0   \n",
              "78151                             0                               0   \n",
              "\n",
              "        job_Environmental consultant  job_Exhibition designer  \\\n",
              "273124                             0                        0   \n",
              "78151                              0                        0   \n",
              "\n",
              "        job_Film/video editor  job_Financial adviser  job_IT trainer  \\\n",
              "273124                      0                      0               0   \n",
              "78151                       0                      0               0   \n",
              "\n",
              "        job_Materials engineer  job_Naval architect  job_Other  \\\n",
              "273124                       0                    0          1   \n",
              "78151                        0                    0          1   \n",
              "\n",
              "        job_Scientist, audiological  job_Surveyor, land/geomatics  \\\n",
              "273124                            0                             0   \n",
              "78151                             0                             0   \n",
              "\n",
              "        job_Systems developer  \n",
              "273124                      0  \n",
              "78151                       0  "
            ]
          },
          "execution_count": 61,
          "metadata": {},
          "output_type": "execute_result"
        }
      ],
      "source": [
        "xtrain_encoded.head(2)"
      ]
    },
    {
      "cell_type": "code",
      "execution_count": 62,
      "metadata": {
        "colab": {
          "base_uri": "https://localhost:8080/",
          "height": 184
        },
        "id": "eIIrU7dLZ6mH",
        "outputId": "4c5b75da-dd7b-4547-b645-73fa29f3a96f"
      },
      "outputs": [
        {
          "data": {
            "text/html": [
              "<div>\n",
              "<style scoped>\n",
              "    .dataframe tbody tr th:only-of-type {\n",
              "        vertical-align: middle;\n",
              "    }\n",
              "\n",
              "    .dataframe tbody tr th {\n",
              "        vertical-align: top;\n",
              "    }\n",
              "\n",
              "    .dataframe thead th {\n",
              "        text-align: right;\n",
              "    }\n",
              "</style>\n",
              "<table border=\"1\" class=\"dataframe\">\n",
              "  <thead>\n",
              "    <tr style=\"text-align: right;\">\n",
              "      <th></th>\n",
              "      <th>amt</th>\n",
              "      <th>lat</th>\n",
              "      <th>long</th>\n",
              "      <th>city_pop</th>\n",
              "      <th>Year</th>\n",
              "      <th>Hour</th>\n",
              "      <th>Day</th>\n",
              "      <th>Month</th>\n",
              "      <th>Age</th>\n",
              "      <th>category_entertainment</th>\n",
              "      <th>category_food_dining</th>\n",
              "      <th>category_gas_transport</th>\n",
              "      <th>category_grocery_net</th>\n",
              "      <th>category_grocery_pos</th>\n",
              "      <th>category_health_fitness</th>\n",
              "      <th>category_home</th>\n",
              "      <th>category_kids_pets</th>\n",
              "      <th>category_misc_net</th>\n",
              "      <th>category_misc_pos</th>\n",
              "      <th>category_personal_care</th>\n",
              "      <th>category_shopping_net</th>\n",
              "      <th>category_shopping_pos</th>\n",
              "      <th>category_travel</th>\n",
              "      <th>gender_F</th>\n",
              "      <th>gender_M</th>\n",
              "      <th>job_Chartered public finance accountant</th>\n",
              "      <th>job_Chief Executive Officer</th>\n",
              "      <th>job_Comptroller</th>\n",
              "      <th>job_Copywriter, advertising</th>\n",
              "      <th>job_Designer, ceramics/pottery</th>\n",
              "      <th>job_Environmental consultant</th>\n",
              "      <th>job_Exhibition designer</th>\n",
              "      <th>job_Film/video editor</th>\n",
              "      <th>job_Financial adviser</th>\n",
              "      <th>job_IT trainer</th>\n",
              "      <th>job_Materials engineer</th>\n",
              "      <th>job_Naval architect</th>\n",
              "      <th>job_Other</th>\n",
              "      <th>job_Scientist, audiological</th>\n",
              "      <th>job_Surveyor, land/geomatics</th>\n",
              "      <th>job_Systems developer</th>\n",
              "    </tr>\n",
              "  </thead>\n",
              "  <tbody>\n",
              "    <tr>\n",
              "      <th>355659</th>\n",
              "      <td>-0.115032</td>\n",
              "      <td>0.149865</td>\n",
              "      <td>0.069082</td>\n",
              "      <td>0.045133</td>\n",
              "      <td>-0.633897</td>\n",
              "      <td>0.617645</td>\n",
              "      <td>0.877642</td>\n",
              "      <td>-0.041527</td>\n",
              "      <td>-0.690851</td>\n",
              "      <td>0</td>\n",
              "      <td>0</td>\n",
              "      <td>0</td>\n",
              "      <td>0</td>\n",
              "      <td>0</td>\n",
              "      <td>1</td>\n",
              "      <td>0</td>\n",
              "      <td>0</td>\n",
              "      <td>0</td>\n",
              "      <td>0</td>\n",
              "      <td>0</td>\n",
              "      <td>0</td>\n",
              "      <td>0</td>\n",
              "      <td>0</td>\n",
              "      <td>1</td>\n",
              "      <td>0</td>\n",
              "      <td>0</td>\n",
              "      <td>0</td>\n",
              "      <td>0</td>\n",
              "      <td>0</td>\n",
              "      <td>0</td>\n",
              "      <td>0</td>\n",
              "      <td>0</td>\n",
              "      <td>0</td>\n",
              "      <td>0</td>\n",
              "      <td>0</td>\n",
              "      <td>0</td>\n",
              "      <td>0</td>\n",
              "      <td>1</td>\n",
              "      <td>0</td>\n",
              "      <td>0</td>\n",
              "      <td>0</td>\n",
              "    </tr>\n",
              "    <tr>\n",
              "      <th>927745</th>\n",
              "      <td>-1.660028</td>\n",
              "      <td>-0.069472</td>\n",
              "      <td>0.325824</td>\n",
              "      <td>1.807156</td>\n",
              "      <td>1.577543</td>\n",
              "      <td>-1.143138</td>\n",
              "      <td>0.422850</td>\n",
              "      <td>-1.504788</td>\n",
              "      <td>0.687450</td>\n",
              "      <td>0</td>\n",
              "      <td>0</td>\n",
              "      <td>0</td>\n",
              "      <td>0</td>\n",
              "      <td>0</td>\n",
              "      <td>0</td>\n",
              "      <td>0</td>\n",
              "      <td>0</td>\n",
              "      <td>0</td>\n",
              "      <td>0</td>\n",
              "      <td>0</td>\n",
              "      <td>0</td>\n",
              "      <td>1</td>\n",
              "      <td>0</td>\n",
              "      <td>1</td>\n",
              "      <td>0</td>\n",
              "      <td>0</td>\n",
              "      <td>0</td>\n",
              "      <td>0</td>\n",
              "      <td>0</td>\n",
              "      <td>0</td>\n",
              "      <td>0</td>\n",
              "      <td>0</td>\n",
              "      <td>0</td>\n",
              "      <td>0</td>\n",
              "      <td>0</td>\n",
              "      <td>0</td>\n",
              "      <td>0</td>\n",
              "      <td>1</td>\n",
              "      <td>0</td>\n",
              "      <td>0</td>\n",
              "      <td>0</td>\n",
              "    </tr>\n",
              "  </tbody>\n",
              "</table>\n",
              "</div>"
            ],
            "text/plain": [
              "             amt       lat      long  city_pop      Year      Hour       Day  \\\n",
              "355659 -0.115032  0.149865  0.069082  0.045133 -0.633897  0.617645  0.877642   \n",
              "927745 -1.660028 -0.069472  0.325824  1.807156  1.577543 -1.143138  0.422850   \n",
              "\n",
              "           Month       Age  category_entertainment  category_food_dining  \\\n",
              "355659 -0.041527 -0.690851                       0                     0   \n",
              "927745 -1.504788  0.687450                       0                     0   \n",
              "\n",
              "        category_gas_transport  category_grocery_net  category_grocery_pos  \\\n",
              "355659                       0                     0                     0   \n",
              "927745                       0                     0                     0   \n",
              "\n",
              "        category_health_fitness  category_home  category_kids_pets  \\\n",
              "355659                        1              0                   0   \n",
              "927745                        0              0                   0   \n",
              "\n",
              "        category_misc_net  category_misc_pos  category_personal_care  \\\n",
              "355659                  0                  0                       0   \n",
              "927745                  0                  0                       0   \n",
              "\n",
              "        category_shopping_net  category_shopping_pos  category_travel  \\\n",
              "355659                      0                      0                0   \n",
              "927745                      0                      1                0   \n",
              "\n",
              "        gender_F  gender_M  job_Chartered public finance accountant  \\\n",
              "355659         1         0                                        0   \n",
              "927745         1         0                                        0   \n",
              "\n",
              "        job_Chief Executive Officer  job_Comptroller  \\\n",
              "355659                            0                0   \n",
              "927745                            0                0   \n",
              "\n",
              "        job_Copywriter, advertising  job_Designer, ceramics/pottery  \\\n",
              "355659                            0                               0   \n",
              "927745                            0                               0   \n",
              "\n",
              "        job_Environmental consultant  job_Exhibition designer  \\\n",
              "355659                             0                        0   \n",
              "927745                             0                        0   \n",
              "\n",
              "        job_Film/video editor  job_Financial adviser  job_IT trainer  \\\n",
              "355659                      0                      0               0   \n",
              "927745                      0                      0               0   \n",
              "\n",
              "        job_Materials engineer  job_Naval architect  job_Other  \\\n",
              "355659                       0                    0          1   \n",
              "927745                       0                    0          1   \n",
              "\n",
              "        job_Scientist, audiological  job_Surveyor, land/geomatics  \\\n",
              "355659                            0                             0   \n",
              "927745                            0                             0   \n",
              "\n",
              "        job_Systems developer  \n",
              "355659                      0  \n",
              "927745                      0  "
            ]
          },
          "execution_count": 62,
          "metadata": {},
          "output_type": "execute_result"
        }
      ],
      "source": [
        "xtest_encoded.head(2)"
      ]
    },
    {
      "cell_type": "markdown",
      "metadata": {
        "id": "IDpGf9NCbxEj"
      },
      "source": [
        "### **Handling imbalanced Dataset**"
      ]
    },
    {
      "cell_type": "code",
      "execution_count": 63,
      "metadata": {
        "id": "GNiHunNxburc"
      },
      "outputs": [],
      "source": [
        "# Oversampling with RandomOverSampler\n",
        "\n",
        "ROS = RandomOverSampler(random_state=42)\n",
        "xtrain_ros, ytrain_ros = ROS.fit_resample(xtrain_encoded, ytrain)\n",
        "\n",
        "# Oversampling with SMOTE\n",
        "\n",
        "SMT = SMOTE(random_state=42)\n",
        "xtrain_smt, ytrain_smt = SMT.fit_resample(xtrain_encoded, ytrain)"
      ]
    },
    {
      "cell_type": "code",
      "execution_count": 64,
      "metadata": {
        "colab": {
          "base_uri": "https://localhost:8080/"
        },
        "id": "xL8vCBzUbudO",
        "outputId": "6ea9af35-071c-4e56-b3c0-dc3cd312034b"
      },
      "outputs": [
        {
          "name": "stdout",
          "output_type": "stream",
          "text": [
            "The Shape of xtrain Resampled: (2056948, 41)\n",
            "The Shape of ytrain Resampled: (2056948,)\n",
            "\n",
            "The Shape of xtest: (258265, 12)\n",
            "The Shape of ytest: (258265,)\n"
          ]
        }
      ],
      "source": [
        "print(f'The Shape of xtrain Resampled: {xtrain_smt.shape}')\n",
        "print(f'The Shape of ytrain Resampled: {ytrain_smt.shape}\\n')\n",
        "print(f'The Shape of xtest: {xtest_scaled.shape}')\n",
        "print(f'The Shape of ytest: {ytest.shape}')"
      ]
    },
    {
      "cell_type": "code",
      "execution_count": 65,
      "metadata": {
        "colab": {
          "base_uri": "https://localhost:8080/"
        },
        "id": "j6w1vPDRbuak",
        "outputId": "5b6e84a7-b92c-4414-bbfa-d6d169f2e181"
      },
      "outputs": [
        {
          "data": {
            "text/plain": [
              "is_fraud\n",
              "0    1028474\n",
              "1    1028474\n",
              "Name: count, dtype: int64"
            ]
          },
          "execution_count": 65,
          "metadata": {},
          "output_type": "execute_result"
        }
      ],
      "source": [
        "# Checking the distribution of classes in the oversampled ytrain_ros after using SMOTE\n",
        "\n",
        "ytrain_smt.value_counts()"
      ]
    },
    {
      "cell_type": "markdown",
      "metadata": {
        "id": "sWPmHhQSceLt"
      },
      "source": [
        "### **Feature Extraction**"
      ]
    },
    {
      "cell_type": "markdown",
      "metadata": {
        "id": "snWxVD6CicuX"
      },
      "source": [
        "**Performing PCA (Principal Component Analysis) on the selected features to further reduce dimensionality and extract important information.**"
      ]
    },
    {
      "cell_type": "code",
      "execution_count": null,
      "metadata": {
        "colab": {
          "base_uri": "https://localhost:8080/"
        },
        "id": "MI8zQprkc6oq",
        "outputId": "73868b72-d097-4c4f-a1e9-2059effb81c9"
      },
      "outputs": [
        {
          "name": "stdout",
          "output_type": "stream",
          "text": [
            "The shape of PCA-transformed Xtrain: (2056948, 20)\n",
            "The shape of PCA-transformed Xtest: (258265, 20)\n"
          ]
        }
      ],
      "source": [
        "# Instantiating PCA\n",
        "pca = PCA(n_components=20)\n",
        "\n",
        "# # Fitting PCA on the selected training features\n",
        "pca.fit(xtrain_smt)\n",
        "\n",
        "#Transforming the training and testing features using the fitted PCA\n",
        "pca_xtrain = pca.transform(xtrain_smt)\n",
        "pca_xtest = pca.transform(xtest_encoded)\n",
        "\n",
        "# Printing the shape of transformed training and test features\n",
        "print(f'The shape of PCA-transformed Xtrain: {pca_xtrain.shape}')\n",
        "print(f'The shape of PCA-transformed Xtest: {pca_xtest.shape}')"
      ]
    },
    {
      "cell_type": "code",
      "execution_count": null,
      "metadata": {
        "colab": {
          "base_uri": "https://localhost:8080/"
        },
        "id": "tyBfXzecc6g5",
        "outputId": "516b8ed9-11f7-4d37-a701-edf73a10c9a3"
      },
      "outputs": [
        {
          "name": "stdout",
          "output_type": "stream",
          "text": [
            "Explained Variance Ratio for PC1: 18.07 %\n",
            "Explained Variance Ratio for PC2: 13.47 %\n",
            "Explained Variance Ratio for PC3: 11.97 %\n",
            "Explained Variance Ratio for PC4: 11.04 %\n",
            "Explained Variance Ratio for PC5: 8.47 %\n",
            "Explained Variance Ratio for PC6: 8.02 %\n",
            "Explained Variance Ratio for PC7: 7.46 %\n",
            "Explained Variance Ratio for PC8: 5.54 %\n",
            "Explained Variance Ratio for PC9: 4.77 %\n",
            "Explained Variance Ratio for PC10: 3.90 %\n",
            "Explained Variance Ratio for PC11: 1.09 %\n",
            "Explained Variance Ratio for PC12: 0.65 %\n",
            "Explained Variance Ratio for PC13: 0.64 %\n",
            "Explained Variance Ratio for PC14: 0.62 %\n",
            "Explained Variance Ratio for PC15: 0.51 %\n",
            "Explained Variance Ratio for PC16: 0.49 %\n",
            "Explained Variance Ratio for PC17: 0.46 %\n",
            "Explained Variance Ratio for PC18: 0.41 %\n",
            "Explained Variance Ratio for PC19: 0.38 %\n",
            "Explained Variance Ratio for PC20: 0.37 %\n"
          ]
        }
      ],
      "source": [
        "# Access the explained variance ratio\n",
        "explained_variance_ratio = pca.explained_variance_ratio_\n",
        "\n",
        "# Print the explained variance ratio for each principal component\n",
        "for i, ratio in enumerate(explained_variance_ratio):\n",
        "    print(f'Explained Variance Ratio for PC{i+1}: {(ratio*100):.2f} %')\n"
      ]
    },
    {
      "cell_type": "code",
      "execution_count": null,
      "metadata": {
        "colab": {
          "base_uri": "https://localhost:8080/"
        },
        "id": "hYRUgfjbc6eW",
        "outputId": "0f6888af-8398-46fd-bfe9-a97972ee37d0"
      },
      "outputs": [
        {
          "name": "stdout",
          "output_type": "stream",
          "text": [
            "Total Explained Variance Ratios for Principal Components: 98.34 %\n"
          ]
        }
      ],
      "source": [
        "# Explained Variance Ratios for Principal Components\n",
        "\n",
        "print(f'Total Explained Variance Ratios for Principal Components: {(sum(pca.explained_variance_ratio_)*100):.2f} %')"
      ]
    },
    {
      "cell_type": "markdown",
      "metadata": {
        "id": "E8VfGWyGik8x"
      },
      "source": [
        "## **Model Building**\n",
        "\n",
        "---\n",
        "\n"
      ]
    },
    {
      "cell_type": "markdown",
      "metadata": {
        "id": "bidTsnG5ipOg"
      },
      "source": [
        "**Model Architecture**"
      ]
    },
    {
      "cell_type": "markdown",
      "metadata": {
        "id": "laT4GHEZM6B3"
      },
      "source": [
        "**Logistic Regression - SMOTE (Synthetic Minority Over-sampling Technique)**"
      ]
    },
    {
      "cell_type": "code",
      "execution_count": 66,
      "metadata": {
        "colab": {
          "base_uri": "https://localhost:8080/"
        },
        "id": "mQBgOC28M6B4",
        "outputId": "0fd9bc4f-5d29-4a87-dc1b-b01b57f8c4e1"
      },
      "outputs": [
        {
          "name": "stdout",
          "output_type": "stream",
          "text": [
            "Accuracy Score for Training LogisticRegression : 0.7943346161400289\n",
            "Accuracy Score for Testing LogisticRegression : 0.8057421640562987\n",
            "Classification Report For Training Data and Testing Data\n",
            "\n",
            "              precision    recall  f1-score   support\n",
            "\n",
            "           0       0.79      0.81      0.80   1028474\n",
            "           1       0.80      0.78      0.79   1028474\n",
            "\n",
            "    accuracy                           0.79   2056948\n",
            "   macro avg       0.79      0.79      0.79   2056948\n",
            "weighted avg       0.79      0.79      0.79   2056948\n",
            "\n",
            "              precision    recall  f1-score   support\n",
            "\n",
            "           0       1.00      0.81      0.89    257118\n",
            "           1       0.01      0.64      0.03      1147\n",
            "\n",
            "    accuracy                           0.81    258265\n",
            "   macro avg       0.51      0.72      0.46    258265\n",
            "weighted avg       0.99      0.81      0.89    258265\n",
            "\n"
          ]
        }
      ],
      "source": [
        "# # Training a Logistic Regression model and evaluating its performance\n",
        "\n",
        "logm = LogisticRegression(random_state=42)\n",
        "\n",
        "# Fit the model to the training data\n",
        "logm.fit(xtrain_smt, ytrain_smt)\n",
        "\n",
        "# Predictions on the training and testing data\n",
        "y_train_pred_logm = logm.predict(xtrain_smt)\n",
        "y_test_pred_logm = logm.predict(xtest_encoded)\n",
        "\n",
        "# Calculate accuracy scores for training and testing data\n",
        "accuracy_train_logm = metrics.accuracy_score(ytrain_smt, y_train_pred_logm)\n",
        "accuracy_test_logm = metrics.accuracy_score(ytest, y_test_pred_logm)\n",
        "\n",
        "print(f'Accuracy Score for Training LogisticRegression : {accuracy_train_logm}')\n",
        "print(f'Accuracy Score for Testing LogisticRegression : {accuracy_test_logm}')\n",
        "\n",
        "print(f'Classification Report For Training Data and Testing Data\\n')\n",
        "print(metrics.classification_report(ytrain_smt, y_train_pred_logm))\n",
        "\n",
        "print(metrics.classification_report(ytest, y_test_pred_logm))"
      ]
    },
    {
      "cell_type": "markdown",
      "metadata": {
        "id": "Xk80PMdHM6B5"
      },
      "source": [
        "### Decision Tree - SMOTE (Synthetic Minority Over-sampling Technique)"
      ]
    },
    {
      "cell_type": "code",
      "execution_count": null,
      "metadata": {
        "colab": {
          "base_uri": "https://localhost:8080/"
        },
        "id": "nVuzJayeM6B5",
        "outputId": "9863bc9f-d000-4e34-c578-0e8154d11036"
      },
      "outputs": [
        {
          "name": "stdout",
          "output_type": "stream",
          "text": [
            "Accuracy Score for DecisionTreeClassifier Testing : 1.0\n",
            "Accuracy Score for DecisionTreeClassifier Testing : 0.9968830464832633\n",
            "\n",
            "\n",
            "Classification Report For Training Data\n",
            "              precision    recall  f1-score   support\n",
            "\n",
            "           0       1.00      1.00      1.00   1028474\n",
            "           1       1.00      1.00      1.00   1028474\n",
            "\n",
            "    accuracy                           1.00   2056948\n",
            "   macro avg       1.00      1.00      1.00   2056948\n",
            "weighted avg       1.00      1.00      1.00   2056948\n",
            "\n",
            "              precision    recall  f1-score   support\n",
            "\n",
            "           0       1.00      1.00      1.00    257118\n",
            "           1       0.61      0.80      0.70      1147\n",
            "\n",
            "    accuracy                           1.00    258265\n",
            "   macro avg       0.81      0.90      0.85    258265\n",
            "weighted avg       1.00      1.00      1.00    258265\n",
            "\n",
            "Classification Report For Testing Data\n"
          ]
        }
      ],
      "source": [
        "# Training a DecisionTreeClassifier model and evaluating its performance\n",
        "\n",
        "dt_model = DecisionTreeClassifier(class_weight='balanced', random_state=4)\n",
        "\n",
        "# Fit the model to the training data\n",
        "dt_model.fit(xtrain_smt, ytrain_smt)\n",
        "\n",
        "# Predictions on the training and testing data\n",
        "y_train_pred_dtm = dt_model.predict(xtrain_smt)\n",
        "y_test_pred_dtm = dt_model.predict(xtest_encoded)\n",
        "\n",
        "# Calculate accuracy scores for training and testing data\n",
        "accuracy_train_dtm = metrics.accuracy_score(ytrain_smt, y_train_pred_dtm)\n",
        "accuracy_test_dtm = metrics.accuracy_score(ytest, y_test_pred_dtm)\n",
        "\n",
        "print(f'Accuracy Score for DecisionTreeClassifier Testing : {accuracy_train_dtm}')\n",
        "print(f'Accuracy Score for DecisionTreeClassifier Testing : {accuracy_test_dtm}')\n",
        "print('\\n')\n",
        "print(f'Classification Report For Training Data')\n",
        "print(metrics.classification_report(ytrain_smt, y_train_pred_dtm))\n",
        "\n",
        "print(metrics.classification_report(ytest, y_test_pred_dtm))\n",
        "print(f'Classification Report For Testing Data')\n"
      ]
    },
    {
      "cell_type": "markdown",
      "metadata": {
        "id": "sTAqiPEeM6B6"
      },
      "source": [
        "### Random Forest - SMOTE (Synthetic Minority Over-sampling Technique)\n",
        "\n",
        "---\n",
        "\n"
      ]
    },
    {
      "cell_type": "code",
      "execution_count": 67,
      "metadata": {
        "colab": {
          "base_uri": "https://localhost:8080/"
        },
        "id": "LNyQ-Kc7M6B7",
        "outputId": "f9c49e3a-9b73-4886-eee5-969e2e59469a"
      },
      "outputs": [
        {
          "name": "stdout",
          "output_type": "stream",
          "text": [
            "Accuracy Score for Random Forest Testing : 1.0\n",
            "Accuracy Score for Random Forest Testing : 0.9986215708671325\n",
            "\n",
            "\n",
            "Classification Report For Training Data & Testing Data\n",
            "\n",
            "              precision    recall  f1-score   support\n",
            "\n",
            "           0       1.00      1.00      1.00   1028474\n",
            "           1       1.00      1.00      1.00   1028474\n",
            "\n",
            "    accuracy                           1.00   2056948\n",
            "   macro avg       1.00      1.00      1.00   2056948\n",
            "weighted avg       1.00      1.00      1.00   2056948\n",
            "\n",
            "              precision    recall  f1-score   support\n",
            "\n",
            "           0       1.00      1.00      1.00    257118\n",
            "           1       0.89      0.78      0.83      1147\n",
            "\n",
            "    accuracy                           1.00    258265\n",
            "   macro avg       0.95      0.89      0.92    258265\n",
            "weighted avg       1.00      1.00      1.00    258265\n",
            "\n"
          ]
        }
      ],
      "source": [
        "# Training a RandomForestClassifier model and evaluating its performance\n",
        "\n",
        "rf_model = RandomForestClassifier(random_state=4, class_weight='balanced')\n",
        "\n",
        "rf_model.fit(xtrain_smt, ytrain_smt)\n",
        "\n",
        "# Predictions on the training and testing data\n",
        "y_train_pred_rf_smt = rf_model.predict(xtrain_smt)\n",
        "y_test_pred_rf_smt = rf_model.predict(xtest_encoded)\n",
        "\n",
        "# Calculate accuracy scores for training and testing data\n",
        "accuracy_train_rf_smt = metrics.accuracy_score(ytrain_smt, y_train_pred_rf_smt)\n",
        "accuracy_test_rf_smt = metrics.accuracy_score(ytest, y_test_pred_rf_smt)\n",
        "\n",
        "print(f'Accuracy Score for Random Forest Testing : {accuracy_train_rf_smt}')\n",
        "print(f'Accuracy Score for Random Forest Testing : {accuracy_test_rf_smt}')\n",
        "print('\\n')\n",
        "print(f'Classification Report For Training Data & Testing Data\\n')\n",
        "print(metrics.classification_report(ytrain_smt, y_train_pred_rf_smt))\n",
        "\n",
        "print(metrics.classification_report(ytest, y_test_pred_rf_smt))"
      ]
    },
    {
      "cell_type": "code",
      "execution_count": 68,
      "metadata": {
        "colab": {
          "base_uri": "https://localhost:8080/",
          "height": 466
        },
        "id": "b_w103RSM6B8",
        "outputId": "5944304f-f311-40a3-bb35-07f912e7af54"
      },
      "outputs": [
        {
          "name": "stdout",
          "output_type": "stream",
          "text": [
            "Confusion Matrix for Testing Dataset : \n"
          ]
        },
        {
          "data": {
            "image/png": "[encoded data removed]",
            "text/plain": [
              "<Figure size 640x480 with 2 Axes>"
            ]
          },
          "metadata": {},
          "output_type": "display_data"
        }
      ],
      "source": [
        "cm_test_rf = metrics.confusion_matrix(ytest, y_test_pred_rf_smt)\n",
        "\n",
        "print('Confusion Matrix for Testing Dataset : ')\n",
        "cm_test_dis = metrics.ConfusionMatrixDisplay(confusion_matrix=cm_test_rf)\n",
        "\n",
        "cm_test_dis.plot()\n",
        "plt.show()"
      ]
    },
    {
      "cell_type": "markdown",
      "metadata": {
        "id": "5aZ7Mo4dM6B9"
      },
      "source": [
        "### XGB - SMOTE (Synthetic Minority Over-sampling Technique)\n",
        "\n",
        "---\n",
        "\n"
      ]
    },
    {
      "cell_type": "code",
      "execution_count": null,
      "metadata": {
        "colab": {
          "base_uri": "https://localhost:8080/"
        },
        "id": "f29JnbISM6B-",
        "outputId": "3729e9e9-9023-4073-a60f-4c7002f7f77a"
      },
      "outputs": [
        {
          "name": "stdout",
          "output_type": "stream",
          "text": [
            "Accuracy Score for XGBoost Testing : 0.9983212993230748\n",
            "Accuracy Score for XGBoost Testing : 0.996968230306081\n",
            "\n",
            "\n",
            "Classification Report For Training Data\n",
            "              precision    recall  f1-score   support\n",
            "\n",
            "           0       1.00      1.00      1.00   1028474\n",
            "           1       1.00      1.00      1.00   1028474\n",
            "\n",
            "    accuracy                           1.00   2056948\n",
            "   macro avg       1.00      1.00      1.00   2056948\n",
            "weighted avg       1.00      1.00      1.00   2056948\n",
            "\n",
            "Classification Report For Testing Data\n",
            "              precision    recall  f1-score   support\n",
            "\n",
            "           0       1.00      1.00      1.00    257118\n",
            "           1       0.61      0.88      0.72      1147\n",
            "\n",
            "    accuracy                           1.00    258265\n",
            "   macro avg       0.80      0.94      0.86    258265\n",
            "weighted avg       1.00      1.00      1.00    258265\n",
            "\n"
          ]
        }
      ],
      "source": [
        "# Training an XGBoost model\n",
        "xgb_model = XGBClassifier(random_state=4)\n",
        "xgb_model.fit(xtrain_smt, ytrain_smt)\n",
        "\n",
        "# Predictions on the training and testing data\n",
        "y_train_pred_xgb = xgb_model.predict(xtrain_smt)\n",
        "y_test_pred_xgb = xgb_model.predict(xtest_encoded)\n",
        "\n",
        "# Calculate accuracy scores for training and testing data\n",
        "accuracy_train_xgb = metrics.accuracy_score(ytrain_smt, y_train_pred_xgb)\n",
        "accuracy_test_xgb = metrics.accuracy_score(ytest, y_test_pred_xgb)\n",
        "\n",
        "print(f'Accuracy Score for XGBoost Testing : {accuracy_train_xgb}')\n",
        "print(f'Accuracy Score for XGBoost Testing : {accuracy_test_xgb}')\n",
        "print('\\n')\n",
        "\n",
        "# Classification report for training data\n",
        "print(f'Classification Report For Training Data')\n",
        "print(metrics.classification_report(ytrain_smt, y_train_pred_xgb))\n",
        "\n",
        "# Classification report for testing data\n",
        "print(f'Classification Report For Testing Data')\n",
        "print(metrics.classification_report(ytest, y_test_pred_xgb))"
      ]
    },
    {
      "cell_type": "markdown",
      "metadata": {
        "id": "Wb3bujBsM6B_"
      },
      "source": [
        "### Using Random Sampler"
      ]
    },
    {
      "cell_type": "markdown",
      "metadata": {
        "id": "kIzMeIWXM6CB"
      },
      "source": [
        "### XGB - Random Over-sampling"
      ]
    },
    {
      "cell_type": "code",
      "execution_count": null,
      "metadata": {
        "colab": {
          "base_uri": "https://localhost:8080/"
        },
        "id": "oTsiRYFGM6CC",
        "outputId": "4df330df-52f9-4175-9142-b7c85f72a518"
      },
      "outputs": [
        {
          "name": "stdout",
          "output_type": "stream",
          "text": [
            "Accuracy Score for Random Forest Testing : 0.9029951170374749\n",
            "Accuracy Score for Random Forest Testing : 0.9987299866416278\n",
            "\n",
            "\n",
            "Classification Report For Training Data & Testing Data\n",
            "\n",
            "              precision    recall  f1-score   support\n",
            "\n",
            "           0       0.84      1.00      0.91   1028474\n",
            "           1       1.00      0.81      0.89   1028474\n",
            "\n",
            "    accuracy                           0.90   2056948\n",
            "   macro avg       0.92      0.90      0.90   2056948\n",
            "weighted avg       0.92      0.90      0.90   2056948\n",
            "\n",
            "              precision    recall  f1-score   support\n",
            "\n",
            "           0       1.00      1.00      1.00    257118\n",
            "           1       0.96      0.75      0.84      1147\n",
            "\n",
            "    accuracy                           1.00    258265\n",
            "   macro avg       0.98      0.87      0.92    258265\n",
            "weighted avg       1.00      1.00      1.00    258265\n",
            "\n"
          ]
        }
      ],
      "source": [
        "# Training a RandomForestClassifier model and evaluating its performance\n",
        "\n",
        "rf_model = RandomForestClassifier(random_state=4, class_weight='balanced')\n",
        "\n",
        "rf_model.fit(xtrain_ros, ytrain_ros)\n",
        "\n",
        "# Predictions on the training and testing data\n",
        "y_train_pred_rf_ros = rf_model.predict(xtrain_smt)\n",
        "y_test_pred_rf_ros = rf_model.predict(xtest_encoded)\n",
        "\n",
        "# Calculate accuracy scores for training and testing data\n",
        "accuracy_train_rf_ros = metrics.accuracy_score(ytrain_ros, y_train_pred_rf_ros)\n",
        "accuracy_test_rf_ros = metrics.accuracy_score(ytest, y_test_pred_rf_ros)\n",
        "\n",
        "print(f'Accuracy Score for Random Forest Testing : {accuracy_train_rf_ros}')\n",
        "print(f'Accuracy Score for Random Forest Testing : {accuracy_test_rf_ros}')\n",
        "print('\\n')\n",
        "print(f'Classification Report For Training Data & Testing Data\\n')\n",
        "print(metrics.classification_report(ytrain_ros, y_train_pred_rf_ros))\n",
        "\n",
        "print(metrics.classification_report(ytest, y_test_pred_rf_ros))"
      ]
    },
    {
      "cell_type": "markdown",
      "metadata": {
        "id": "Jf07_b-9M6CE"
      },
      "source": [
        "### Decision Tree -Random Over-sampling"
      ]
    },
    {
      "cell_type": "code",
      "execution_count": null,
      "metadata": {
        "colab": {
          "base_uri": "https://localhost:8080/"
        },
        "id": "5tpfr7kfM6CE",
        "outputId": "86567a96-8469-4f4f-e411-77a1b024dc2e"
      },
      "outputs": [
        {
          "name": "stdout",
          "output_type": "stream",
          "text": [
            "Accuracy Score for DecisionTreeClassifier Testing : 1.0\n",
            "Accuracy Score for DecisionTreeClassifier Testing : 0.9981220839060655\n",
            "\n",
            "\n",
            "Classification Report on Training Data & Testing Date:\n",
            "              precision    recall  f1-score   support\n",
            "\n",
            "           0       1.00      1.00      1.00   1028474\n",
            "           1       1.00      1.00      1.00   1028474\n",
            "\n",
            "    accuracy                           1.00   2056948\n",
            "   macro avg       1.00      1.00      1.00   2056948\n",
            "weighted avg       1.00      1.00      1.00   2056948\n",
            "\n",
            "              precision    recall  f1-score   support\n",
            "\n",
            "           0       1.00      1.00      1.00    257118\n",
            "           1       0.80      0.77      0.78      1147\n",
            "\n",
            "    accuracy                           1.00    258265\n",
            "   macro avg       0.90      0.88      0.89    258265\n",
            "weighted avg       1.00      1.00      1.00    258265\n",
            "\n"
          ]
        }
      ],
      "source": [
        "# Training a DecisionTreeClassifier model and evaluating its performance\n",
        "\n",
        "dt_model_ros = DecisionTreeClassifier(class_weight='balanced', random_state=4)\n",
        "\n",
        "dt_model_ros.fit(xtrain_ros, ytrain_ros)\n",
        "\n",
        "y_train_pred_dt_ros = dt_model_ros.predict(xtrain_ros)\n",
        "y_test_pred_dt_ros = dt_model_ros.predict(xtest_encoded)\n",
        "\n",
        "accuracy_train_dt_ros = metrics.accuracy_score(ytrain_ros, y_train_pred_dt_ros)\n",
        "accuracy_test_dt_ros = metrics.accuracy_score(ytest, y_test_pred_dt_ros)\n",
        "\n",
        "print(f'Accuracy Score for DecisionTreeClassifier Testing : {accuracy_train_dt_ros}')\n",
        "print(f'Accuracy Score for DecisionTreeClassifier Testing : {accuracy_test_dt_ros}')\n",
        "print('\\n')\n",
        "print(\"Classification Report on Training Data & Testing Date:\")\n",
        "print(metrics.classification_report(ytrain_ros, y_train_pred_dt_ros))\n",
        "print(metrics.classification_report(ytest, y_test_pred_dt_ros))"
      ]
    },
    {
      "cell_type": "markdown",
      "metadata": {
        "id": "ppWDVVGUM6CF"
      },
      "source": [
        "### Random Forest - Random Oversampling"
      ]
    },
    {
      "cell_type": "code",
      "execution_count": null,
      "metadata": {
        "colab": {
          "base_uri": "https://localhost:8080/"
        },
        "id": "nJeb-sJSM6CF",
        "outputId": "782d0f7a-31d6-4f43-d53c-710068617fdc"
      },
      "outputs": [
        {
          "name": "stdout",
          "output_type": "stream",
          "text": [
            "Classification Report on Training Data & Testing Date:\n",
            "\n",
            "              precision    recall  f1-score   support\n",
            "\n",
            "           0       1.00      1.00      1.00   1028474\n",
            "           1       1.00      1.00      1.00   1028474\n",
            "\n",
            "    accuracy                           1.00   2056948\n",
            "   macro avg       1.00      1.00      1.00   2056948\n",
            "weighted avg       1.00      1.00      1.00   2056948\n",
            "\n",
            "              precision    recall  f1-score   support\n",
            "\n",
            "           0       1.00      1.00      1.00    257118\n",
            "           1       0.96      0.75      0.84      1147\n",
            "\n",
            "    accuracy                           1.00    258265\n",
            "   macro avg       0.98      0.87      0.92    258265\n",
            "weighted avg       1.00      1.00      1.00    258265\n",
            "\n"
          ]
        }
      ],
      "source": [
        "# Training a RandomForestClassifier model and evaluating its performance\n",
        "\n",
        "rf_model_ros = RandomForestClassifier(random_state=4, class_weight='balanced')\n",
        "\n",
        "# Fit the RandomForestClassifier model to the resampled training data\n",
        "rf_model_ros.fit(xtrain_ros, ytrain_ros)\n",
        "\n",
        "# Predictions on the training and testing data\n",
        "y_train_pred_rf_ros = rf_model_ros.predict(xtrain_ros)\n",
        "y_test_pred_rf_ros = rf_model_ros.predict(xtest_encoded)\n",
        "\n",
        "# Calculate accuracy scores for training and testing data\n",
        "accuracy_train_rf_ros = metrics.accuracy_score(ytrain_ros, y_train_pred_rf_ros)\n",
        "accuracy_test_rf_ros = metrics.accuracy_score(ytest, y_test_pred_rf_ros)\n",
        "\n",
        "print(\"Classification Report on Training Data & Testing Date:\\n\")\n",
        "print(metrics.classification_report(ytrain_ros, y_train_pred_rf_ros))\n",
        "print(metrics.classification_report(ytest, y_test_pred_rf_ros))"
      ]
    },
    {
      "cell_type": "code",
      "execution_count": null,
      "metadata": {
        "colab": {
          "base_uri": "https://localhost:8080/",
          "height": 466
        },
        "id": "mkKwwLcvM6CJ",
        "outputId": "55922726-3e08-448e-87e7-834299e27f2b"
      },
      "outputs": [
        {
          "name": "stdout",
          "output_type": "stream",
          "text": [
            "Confusion Matrix for Testing Dataset : \n"
          ]
        },
        {
          "data": {
            "image/png": "[encoded data removed]",
            "text/plain": [
              "<Figure size 640x480 with 2 Axes>"
            ]
          },
          "metadata": {},
          "output_type": "display_data"
        }
      ],
      "source": [
        "cm_test_rf = metrics.confusion_matrix(ytest, y_test_pred_rf_ros)\n",
        "\n",
        "print('Confusion Matrix for Testing Dataset : ')\n",
        "cm_test_rf = metrics.ConfusionMatrixDisplay(confusion_matrix=cm_test_rf)\n",
        "\n",
        "cm_test_rf.plot()\n",
        "plt.show()"
      ]
    },
    {
      "cell_type": "markdown",
      "metadata": {
        "id": "8jg7brTsM6CK"
      },
      "source": [
        "### Model Selection:\n",
        "### After running different models on Oversampled data: The selection of the Random Forest classifier with Random Oversampling is well-founded due to its ability to achieve exceptional accuracy, strong precision and recall values, and a balanced trade-off between the two. It demonstrates proficiency in addressing the challenges posed by imbalanced data and holds promise for accurate fraud detection in real-world scenarios."
      ]
    },
    {
      "cell_type": "code",
      "execution_count": null,
      "metadata": {
        "id": "ZYEjjMxrM6CK"
      },
      "outputs": [],
      "source": [
        "# Predict probabilities for the positive class (class 1)\n",
        "\n",
        "y_prob = rf_model_ros.predict_proba(xtest_encoded)[:, 1]\n",
        "\n",
        "# Calculate AUC-ROC\n",
        "\n",
        "fpr, tpr, thresholds = metrics.roc_curve(ytest, y_prob)\n",
        "roc_auc = metrics.auc(fpr, tpr)"
      ]
    },
    {
      "cell_type": "code",
      "execution_count": null,
      "metadata": {
        "id": "m8GYvHYEM6CM"
      },
      "outputs": [],
      "source": [
        "# Calculate AUC-PR\n",
        "precision, recall, _ = metrics.precision_recall_curve(ytest, y_prob)\n",
        "aur_pr = metrics.auc(recall, precision)"
      ]
    },
    {
      "cell_type": "code",
      "execution_count": null,
      "metadata": {
        "colab": {
          "base_uri": "https://localhost:8080/"
        },
        "id": "L-gr8h-tM6CM",
        "outputId": "d99ad946-c664-4878-e82f-f52f9ca7d775"
      },
      "outputs": [
        {
          "name": "stdout",
          "output_type": "stream",
          "text": [
            "AUC-ROC: 98.98%\n",
            "AUC-PR: 90.3%\n"
          ]
        }
      ],
      "source": [
        "print(f\"AUC-ROC: {round(roc_auc * 100, 2)}%\")\n",
        "print(f\"AUC-PR: {round(aur_pr * 100, 2)}%\")"
      ]
    },
    {
      "cell_type": "markdown",
      "metadata": {
        "id": "TlQM8vBxM6CN"
      },
      "source": [
        "#### The model's performance in classifying the data is quite promising:\n",
        "##### 1. AUC-ROC (Area Under the Receiver Operating Characteristic Curve): With an AUC-ROC of 98%, the model demonstrates an outstanding ability to distinguish between the positive and negative classes. It exhibits a high true positive rate while maintaining a low false positive rate\n",
        "##### 2. AUC-PR (Area Under the Precision-Recall Curve): The AUC-PR score of 90% signifies that the model achieves a favorable balance between precision and recall, particularly for the positive class. It demonstrates a capacity to make accurate positive predictions while minimizing the risk of missing positive cases.\n",
        "\n",
        "### In conclusion, the model exhibits strong classification performance by effectively distinguishing between classes and striking a favorable balance between precision and recall."
      ]
    },
    {
      "cell_type": "code",
      "execution_count": 71,
      "metadata": {
        "id": "ZTBobY4wM6CN"
      },
      "outputs": [],
      "source": [
        "# Import the 'pickle' library to serialize and deserialize Python objects.\n",
        "\n",
        "import pickle\n",
        "\n",
        "with open('Model1.pkl', 'wb') as file :        # Open the 'Model.pkl' file for writing in binary mode ('wb').\n",
        "    pickle.dump(rf_model, file)           # Serialize (pickle) the 'rf_model' machine learning model and save it to the file."
      ]
    },
    {
      "cell_type": "code",
      "execution_count": 72,
      "metadata": {
        "id": "kChnDdzOM6CO"
      },
      "outputs": [],
      "source": [
        "# Creating a Sample Dataset for Testing\n",
        "\n",
        "testing_df = pd.concat([xtest, ytest], axis=1)"
      ]
    },
    {
      "cell_type": "code",
      "execution_count": null,
      "metadata": {
        "id": "rUUP9C-f9lFc"
      },
      "outputs": [],
      "source": [
        "testing_df.to_csv('testing_df.csv')"
      ]
    },
    {
      "cell_type": "code",
      "execution_count": 73,
      "metadata": {
        "colab": {
          "base_uri": "https://localhost:8080/",
          "height": 89
        },
        "id": "i5ZE5zC_M6CO",
        "outputId": "464feba5-4c60-4fa7-98ac-fc22b1fa16ef"
      },
      "outputs": [
        {
          "data": {
            "text/html": [
              "<div>\n",
              "<style scoped>\n",
              "    .dataframe tbody tr th:only-of-type {\n",
              "        vertical-align: middle;\n",
              "    }\n",
              "\n",
              "    .dataframe tbody tr th {\n",
              "        vertical-align: top;\n",
              "    }\n",
              "\n",
              "    .dataframe thead th {\n",
              "        text-align: right;\n",
              "    }\n",
              "</style>\n",
              "<table border=\"1\" class=\"dataframe\">\n",
              "  <thead>\n",
              "    <tr style=\"text-align: right;\">\n",
              "      <th></th>\n",
              "      <th>category</th>\n",
              "      <th>amt</th>\n",
              "      <th>gender</th>\n",
              "      <th>lat</th>\n",
              "      <th>long</th>\n",
              "      <th>city_pop</th>\n",
              "      <th>job</th>\n",
              "      <th>Year</th>\n",
              "      <th>Hour</th>\n",
              "      <th>Day</th>\n",
              "      <th>Month</th>\n",
              "      <th>Age</th>\n",
              "      <th>is_fraud</th>\n",
              "    </tr>\n",
              "  </thead>\n",
              "  <tbody>\n",
              "    <tr>\n",
              "      <th>277499</th>\n",
              "      <td>home</td>\n",
              "      <td>2.277043</td>\n",
              "      <td>M</td>\n",
              "      <td>32.9276</td>\n",
              "      <td>-97.2489</td>\n",
              "      <td>6.534159</td>\n",
              "      <td>Other</td>\n",
              "      <td>2019</td>\n",
              "      <td>15</td>\n",
              "      <td>4</td>\n",
              "      <td>5</td>\n",
              "      <td>32</td>\n",
              "      <td>0</td>\n",
              "    </tr>\n",
              "  </tbody>\n",
              "</table>\n",
              "</div>"
            ],
            "text/plain": [
              "       category       amt gender      lat     long  city_pop    job  Year  \\\n",
              "277499     home  2.277043      M  32.9276 -97.2489  6.534159  Other  2019   \n",
              "\n",
              "        Hour  Day  Month  Age  is_fraud  \n",
              "277499    15    4      5   32         0  "
            ]
          },
          "execution_count": 73,
          "metadata": {},
          "output_type": "execute_result"
        }
      ],
      "source": [
        "# Creating a Sample Dataset for Testing\n",
        "\n",
        "sample_data1 = testing_df[testing_df['is_fraud'] == 0].sample(1)\n",
        "sample_data1"
      ]
    },
    {
      "cell_type": "code",
      "execution_count": 74,
      "metadata": {
        "colab": {
          "base_uri": "https://localhost:8080/",
          "height": 89
        },
        "id": "AEZAgdT-M6CP",
        "outputId": "d94eb8a8-72f9-4ddc-c66b-831f0634bc8d"
      },
      "outputs": [
        {
          "data": {
            "text/html": [
              "<div>\n",
              "<style scoped>\n",
              "    .dataframe tbody tr th:only-of-type {\n",
              "        vertical-align: middle;\n",
              "    }\n",
              "\n",
              "    .dataframe tbody tr th {\n",
              "        vertical-align: top;\n",
              "    }\n",
              "\n",
              "    .dataframe thead th {\n",
              "        text-align: right;\n",
              "    }\n",
              "</style>\n",
              "<table border=\"1\" class=\"dataframe\">\n",
              "  <thead>\n",
              "    <tr style=\"text-align: right;\">\n",
              "      <th></th>\n",
              "      <th>category</th>\n",
              "      <th>amt</th>\n",
              "      <th>gender</th>\n",
              "      <th>lat</th>\n",
              "      <th>long</th>\n",
              "      <th>city_pop</th>\n",
              "      <th>job</th>\n",
              "      <th>Year</th>\n",
              "      <th>Hour</th>\n",
              "      <th>Day</th>\n",
              "      <th>Month</th>\n",
              "      <th>Age</th>\n",
              "    </tr>\n",
              "  </thead>\n",
              "  <tbody>\n",
              "    <tr>\n",
              "      <th>277499</th>\n",
              "      <td>home</td>\n",
              "      <td>2.277043</td>\n",
              "      <td>M</td>\n",
              "      <td>32.9276</td>\n",
              "      <td>-97.2489</td>\n",
              "      <td>6.534159</td>\n",
              "      <td>Other</td>\n",
              "      <td>2019</td>\n",
              "      <td>15</td>\n",
              "      <td>4</td>\n",
              "      <td>5</td>\n",
              "      <td>32</td>\n",
              "    </tr>\n",
              "  </tbody>\n",
              "</table>\n",
              "</div>"
            ],
            "text/plain": [
              "       category       amt gender      lat     long  city_pop    job  Year  \\\n",
              "277499     home  2.277043      M  32.9276 -97.2489  6.534159  Other  2019   \n",
              "\n",
              "        Hour  Day  Month  Age  \n",
              "277499    15    4      5   32  "
            ]
          },
          "execution_count": 74,
          "metadata": {},
          "output_type": "execute_result"
        }
      ],
      "source": [
        "sample_data1 = sample_data1.drop(columns=['is_fraud'])\n",
        "sample_data1"
      ]
    },
    {
      "cell_type": "markdown",
      "metadata": {
        "id": "00-zuuj0-N1P"
      },
      "source": [
        "\n",
        "\n",
        "---\n",
        "\n"
      ]
    },
    {
      "cell_type": "code",
      "execution_count": 94,
      "metadata": {
        "colab": {
          "base_uri": "https://localhost:8080/",
          "height": 89
        },
        "id": "iZYwYgkk-LGF",
        "outputId": "6f4af9b6-11b8-41cb-fc59-d9bbc84d64ba"
      },
      "outputs": [
        {
          "data": {
            "text/html": [
              "<div>\n",
              "<style scoped>\n",
              "    .dataframe tbody tr th:only-of-type {\n",
              "        vertical-align: middle;\n",
              "    }\n",
              "\n",
              "    .dataframe tbody tr th {\n",
              "        vertical-align: top;\n",
              "    }\n",
              "\n",
              "    .dataframe thead th {\n",
              "        text-align: right;\n",
              "    }\n",
              "</style>\n",
              "<table border=\"1\" class=\"dataframe\">\n",
              "  <thead>\n",
              "    <tr style=\"text-align: right;\">\n",
              "      <th></th>\n",
              "      <th>category</th>\n",
              "      <th>amt</th>\n",
              "      <th>gender</th>\n",
              "      <th>lat</th>\n",
              "      <th>long</th>\n",
              "      <th>city_pop</th>\n",
              "      <th>job</th>\n",
              "      <th>Year</th>\n",
              "      <th>Hour</th>\n",
              "      <th>Day</th>\n",
              "      <th>Month</th>\n",
              "      <th>Age</th>\n",
              "      <th>is_fraud</th>\n",
              "    </tr>\n",
              "  </thead>\n",
              "  <tbody>\n",
              "    <tr>\n",
              "      <th>815115</th>\n",
              "      <td>misc_net</td>\n",
              "      <td>10.444766</td>\n",
              "      <td>F</td>\n",
              "      <td>39.3199</td>\n",
              "      <td>-106.6596</td>\n",
              "      <td>3.311195</td>\n",
              "      <td>Other</td>\n",
              "      <td>2019</td>\n",
              "      <td>23</td>\n",
              "      <td>5</td>\n",
              "      <td>12</td>\n",
              "      <td>80</td>\n",
              "      <td>1</td>\n",
              "    </tr>\n",
              "  </tbody>\n",
              "</table>\n",
              "</div>"
            ],
            "text/plain": [
              "        category        amt gender      lat      long  city_pop    job  Year  \\\n",
              "815115  misc_net  10.444766      F  39.3199 -106.6596  3.311195  Other  2019   \n",
              "\n",
              "        Hour  Day  Month  Age  is_fraud  \n",
              "815115    23    5     12   80         1  "
            ]
          },
          "execution_count": 94,
          "metadata": {},
          "output_type": "execute_result"
        }
      ],
      "source": [
        "sample_data2 = testing_df[testing_df['is_fraud'] == 1].sample(1)\n",
        "sample_data2"
      ]
    },
    {
      "cell_type": "code",
      "execution_count": 95,
      "metadata": {
        "colab": {
          "base_uri": "https://localhost:8080/",
          "height": 89
        },
        "id": "Vi3OrmOY-Mpw",
        "outputId": "9a290f4a-7ed7-470c-efbf-5b3bd89b68f6"
      },
      "outputs": [
        {
          "data": {
            "text/html": [
              "<div>\n",
              "<style scoped>\n",
              "    .dataframe tbody tr th:only-of-type {\n",
              "        vertical-align: middle;\n",
              "    }\n",
              "\n",
              "    .dataframe tbody tr th {\n",
              "        vertical-align: top;\n",
              "    }\n",
              "\n",
              "    .dataframe thead th {\n",
              "        text-align: right;\n",
              "    }\n",
              "</style>\n",
              "<table border=\"1\" class=\"dataframe\">\n",
              "  <thead>\n",
              "    <tr style=\"text-align: right;\">\n",
              "      <th></th>\n",
              "      <th>category</th>\n",
              "      <th>amt</th>\n",
              "      <th>gender</th>\n",
              "      <th>lat</th>\n",
              "      <th>long</th>\n",
              "      <th>city_pop</th>\n",
              "      <th>job</th>\n",
              "      <th>Year</th>\n",
              "      <th>Hour</th>\n",
              "      <th>Day</th>\n",
              "      <th>Month</th>\n",
              "      <th>Age</th>\n",
              "    </tr>\n",
              "  </thead>\n",
              "  <tbody>\n",
              "    <tr>\n",
              "      <th>815115</th>\n",
              "      <td>misc_net</td>\n",
              "      <td>10.444766</td>\n",
              "      <td>F</td>\n",
              "      <td>39.3199</td>\n",
              "      <td>-106.6596</td>\n",
              "      <td>3.311195</td>\n",
              "      <td>Other</td>\n",
              "      <td>2019</td>\n",
              "      <td>23</td>\n",
              "      <td>5</td>\n",
              "      <td>12</td>\n",
              "      <td>80</td>\n",
              "    </tr>\n",
              "  </tbody>\n",
              "</table>\n",
              "</div>"
            ],
            "text/plain": [
              "        category        amt gender      lat      long  city_pop    job  Year  \\\n",
              "815115  misc_net  10.444766      F  39.3199 -106.6596  3.311195  Other  2019   \n",
              "\n",
              "        Hour  Day  Month  Age  \n",
              "815115    23    5     12   80  "
            ]
          },
          "execution_count": 95,
          "metadata": {},
          "output_type": "execute_result"
        }
      ],
      "source": [
        "sample_data2 = sample_data2.drop(columns=['is_fraud'])\n",
        "sample_data2"
      ]
    },
    {
      "cell_type": "markdown",
      "metadata": {
        "id": "7G3ko7OX-jr7"
      },
      "source": [
        "\n",
        "\n",
        "---\n",
        "\n"
      ]
    },
    {
      "cell_type": "markdown",
      "metadata": {
        "id": "9v7LvUcx-k_u"
      },
      "source": [
        "### **Testing**"
      ]
    },
    {
      "cell_type": "code",
      "execution_count": 75,
      "metadata": {
        "id": "-prmv5u6-tss"
      },
      "outputs": [],
      "source": [
        "# Import necessary libraries\n",
        "import pickle\n",
        "from sklearn.pipeline import Pipeline\n",
        "from sklearn.preprocessing import StandardScaler, OneHotEncoder\n",
        "from sklearn.compose import ColumnTransformer\n",
        "from sklearn.feature_selection import SelectKBest, mutual_info_classif\n",
        "from imblearn.over_sampling import SMOTE\n",
        "from sklearn import metrics\n",
        "from sklearn.base import TransformerMixin"
      ]
    },
    {
      "cell_type": "markdown",
      "metadata": {
        "id": "qdOPBEiaPOrK"
      },
      "source": [
        "- The custom SMOTE transformer is designed to overcome the limitation of using SMOTE directly within a scikit-learn pipeline. While scikit-learn pipelines expect transformers to implement fit and transform methods, SMOTE does not conform to this interface. Therefore, a custom SMOTE transformer is necessary to integrate SMOTE seamlessly into machine learning pipelines. This custom transformer follows the scikit-learn transformer interface, allowing it to be used alongside other preprocessing steps within a pipeline. By implementing the fit and transform methods appropriately, the custom SMOTE transformer enables the oversampling of minority classes during the training phase while ensuring compatibility with scikit-learn pipelines."
      ]
    },
    {
      "cell_type": "code",
      "execution_count": 76,
      "metadata": {
        "id": "GGVaO8QF-tns"
      },
      "outputs": [],
      "source": [
        "# Custom transformer class for integrating SMOTE (Synthetic Minority Over-sampling Technique) with scikit-learn pipelines.\n",
        "\n",
        "class SMOTETransformer(TransformerMixin):\n",
        "    def __init__(self, random_state=None):\n",
        "        self.random_state = random_state\n",
        "        self.smote = SMOTE(random_state=random_state)\n",
        "\n",
        "    def fit(self, X, y=None):\n",
        "        # SMOTE should not be fit during the training phase\n",
        "        return self\n",
        "\n",
        "    def transform(self, X, y=None):\n",
        "        if y is None:\n",
        "            # Return input data unchanged if target labels are not provided (e.g., during transformation)\n",
        "            return X\n",
        "        else:\n",
        "            # Apply SMOTE transformation during training phase\n",
        "            X_resampled, y_resampled = self.smote.fit_resample(X, y)\n",
        "            return X_resampled, y_resampled\n"
      ]
    },
    {
      "cell_type": "code",
      "execution_count": 77,
      "metadata": {
        "colab": {
          "base_uri": "https://localhost:8080/",
          "height": 223
        },
        "id": "PEru2sh1PLs3",
        "outputId": "bad1f41c-1cab-4b33-d0e0-4c36f39846e8"
      },
      "outputs": [
        {
          "data": {
            "text/html": [
              "<style>#sk-container-id-1 {color: black;}#sk-container-id-1 pre{padding: 0;}#sk-container-id-1 div.sk-toggleable {background-color: white;}#sk-container-id-1 label.sk-toggleable__label {cursor: pointer;display: block;width: 100%;margin-bottom: 0;padding: 0.3em;box-sizing: border-box;text-align: center;}#sk-container-id-1 label.sk-toggleable__label-arrow:before {content: \"▸\";float: left;margin-right: 0.25em;color: #696969;}#sk-container-id-1 label.sk-toggleable__label-arrow:hover:before {color: black;}#sk-container-id-1 div.sk-estimator:hover label.sk-toggleable__label-arrow:before {color: black;}#sk-container-id-1 div.sk-toggleable__content {max-height: 0;max-width: 0;overflow: hidden;text-align: left;background-color: #f0f8ff;}#sk-container-id-1 div.sk-toggleable__content pre {margin: 0.2em;color: black;border-radius: 0.25em;background-color: #f0f8ff;}#sk-container-id-1 input.sk-toggleable__control:checked~div.sk-toggleable__content {max-height: 200px;max-width: 100%;overflow: auto;}#sk-container-id-1 input.sk-toggleable__control:checked~label.sk-toggleable__label-arrow:before {content: \"▾\";}#sk-container-id-1 div.sk-estimator input.sk-toggleable__control:checked~label.sk-toggleable__label {background-color: #d4ebff;}#sk-container-id-1 div.sk-label input.sk-toggleable__control:checked~label.sk-toggleable__label {background-color: #d4ebff;}#sk-container-id-1 input.sk-hidden--visually {border: 0;clip: rect(1px 1px 1px 1px);clip: rect(1px, 1px, 1px, 1px);height: 1px;margin: -1px;overflow: hidden;padding: 0;position: absolute;width: 1px;}#sk-container-id-1 div.sk-estimator {font-family: monospace;background-color: #f0f8ff;border: 1px dotted black;border-radius: 0.25em;box-sizing: border-box;margin-bottom: 0.5em;}#sk-container-id-1 div.sk-estimator:hover {background-color: #d4ebff;}#sk-container-id-1 div.sk-parallel-item::after {content: \"\";width: 100%;border-bottom: 1px solid gray;flex-grow: 1;}#sk-container-id-1 div.sk-label:hover label.sk-toggleable__label {background-color: #d4ebff;}#sk-container-id-1 div.sk-serial::before {content: \"\";position: absolute;border-left: 1px solid gray;box-sizing: border-box;top: 0;bottom: 0;left: 50%;z-index: 0;}#sk-container-id-1 div.sk-serial {display: flex;flex-direction: column;align-items: center;background-color: white;padding-right: 0.2em;padding-left: 0.2em;position: relative;}#sk-container-id-1 div.sk-item {position: relative;z-index: 1;}#sk-container-id-1 div.sk-parallel {display: flex;align-items: stretch;justify-content: center;background-color: white;position: relative;}#sk-container-id-1 div.sk-item::before, #sk-container-id-1 div.sk-parallel-item::before {content: \"\";position: absolute;border-left: 1px solid gray;box-sizing: border-box;top: 0;bottom: 0;left: 50%;z-index: -1;}#sk-container-id-1 div.sk-parallel-item {display: flex;flex-direction: column;z-index: 1;position: relative;background-color: white;}#sk-container-id-1 div.sk-parallel-item:first-child::after {align-self: flex-end;width: 50%;}#sk-container-id-1 div.sk-parallel-item:last-child::after {align-self: flex-start;width: 50%;}#sk-container-id-1 div.sk-parallel-item:only-child::after {width: 0;}#sk-container-id-1 div.sk-dashed-wrapped {border: 1px dashed gray;margin: 0 0.4em 0.5em 0.4em;box-sizing: border-box;padding-bottom: 0.4em;background-color: white;}#sk-container-id-1 div.sk-label label {font-family: monospace;font-weight: bold;display: inline-block;line-height: 1.2em;}#sk-container-id-1 div.sk-label-container {text-align: center;}#sk-container-id-1 div.sk-container {/* jupyter's `normalize.less` sets `[hidden] { display: none; }` but bootstrap.min.css set `[hidden] { display: none !important; }` so we also need the `!important` here to be able to override the default hidden behavior on the sphinx rendered scikit-learn.org. See: https://github.com/scikit-learn/scikit-learn/issues/21755 */display: inline-block !important;position: relative;}#sk-container-id-1 div.sk-text-repr-fallback {display: none;}</style><div id=\"sk-container-id-1\" class=\"sk-top-container\"><div class=\"sk-text-repr-fallback\"><pre>Pipeline(steps=[(&#x27;preprocessor&#x27;,\n",
              "                 ColumnTransformer(transformers=[(&#x27;num&#x27;, StandardScaler(),\n",
              "                                                  [&#x27;amt&#x27;, &#x27;lat&#x27;, &#x27;long&#x27;,\n",
              "                                                   &#x27;city_pop&#x27;, &#x27;Year&#x27;, &#x27;Hour&#x27;,\n",
              "                                                   &#x27;Day&#x27;, &#x27;Month&#x27;, &#x27;Age&#x27;]),\n",
              "                                                 (&#x27;cat&#x27;, OneHotEncoder(),\n",
              "                                                  [&#x27;category&#x27;, &#x27;gender&#x27;,\n",
              "                                                   &#x27;job&#x27;])])),\n",
              "                (&#x27;smote&#x27;,\n",
              "                 &lt;__main__.SMOTETransformer object at 0x0000014DB9F400D0&gt;),\n",
              "                (&#x27;classifier&#x27;,\n",
              "                 RandomForestClassifier(class_weight=&#x27;balanced&#x27;,\n",
              "                                        random_state=4))])</pre><b>In a Jupyter environment, please rerun this cell to show the HTML representation or trust the notebook. <br />On GitHub, the HTML representation is unable to render, please try loading this page with nbviewer.org.</b></div><div class=\"sk-container\" hidden><div class=\"sk-item sk-dashed-wrapped\"><div class=\"sk-label-container\"><div class=\"sk-label sk-toggleable\"><input class=\"sk-toggleable__control sk-hidden--visually\" id=\"sk-estimator-id-1\" type=\"checkbox\" ><label for=\"sk-estimator-id-1\" class=\"sk-toggleable__label sk-toggleable__label-arrow\">Pipeline</label><div class=\"sk-toggleable__content\"><pre>Pipeline(steps=[(&#x27;preprocessor&#x27;,\n",
              "                 ColumnTransformer(transformers=[(&#x27;num&#x27;, StandardScaler(),\n",
              "                                                  [&#x27;amt&#x27;, &#x27;lat&#x27;, &#x27;long&#x27;,\n",
              "                                                   &#x27;city_pop&#x27;, &#x27;Year&#x27;, &#x27;Hour&#x27;,\n",
              "                                                   &#x27;Day&#x27;, &#x27;Month&#x27;, &#x27;Age&#x27;]),\n",
              "                                                 (&#x27;cat&#x27;, OneHotEncoder(),\n",
              "                                                  [&#x27;category&#x27;, &#x27;gender&#x27;,\n",
              "                                                   &#x27;job&#x27;])])),\n",
              "                (&#x27;smote&#x27;,\n",
              "                 &lt;__main__.SMOTETransformer object at 0x0000014DB9F400D0&gt;),\n",
              "                (&#x27;classifier&#x27;,\n",
              "                 RandomForestClassifier(class_weight=&#x27;balanced&#x27;,\n",
              "                                        random_state=4))])</pre></div></div></div><div class=\"sk-serial\"><div class=\"sk-item sk-dashed-wrapped\"><div class=\"sk-label-container\"><div class=\"sk-label sk-toggleable\"><input class=\"sk-toggleable__control sk-hidden--visually\" id=\"sk-estimator-id-2\" type=\"checkbox\" ><label for=\"sk-estimator-id-2\" class=\"sk-toggleable__label sk-toggleable__label-arrow\">preprocessor: ColumnTransformer</label><div class=\"sk-toggleable__content\"><pre>ColumnTransformer(transformers=[(&#x27;num&#x27;, StandardScaler(),\n",
              "                                 [&#x27;amt&#x27;, &#x27;lat&#x27;, &#x27;long&#x27;, &#x27;city_pop&#x27;, &#x27;Year&#x27;,\n",
              "                                  &#x27;Hour&#x27;, &#x27;Day&#x27;, &#x27;Month&#x27;, &#x27;Age&#x27;]),\n",
              "                                (&#x27;cat&#x27;, OneHotEncoder(),\n",
              "                                 [&#x27;category&#x27;, &#x27;gender&#x27;, &#x27;job&#x27;])])</pre></div></div></div><div class=\"sk-parallel\"><div class=\"sk-parallel-item\"><div class=\"sk-item\"><div class=\"sk-label-container\"><div class=\"sk-label sk-toggleable\"><input class=\"sk-toggleable__control sk-hidden--visually\" id=\"sk-estimator-id-3\" type=\"checkbox\" ><label for=\"sk-estimator-id-3\" class=\"sk-toggleable__label sk-toggleable__label-arrow\">num</label><div class=\"sk-toggleable__content\"><pre>[&#x27;amt&#x27;, &#x27;lat&#x27;, &#x27;long&#x27;, &#x27;city_pop&#x27;, &#x27;Year&#x27;, &#x27;Hour&#x27;, &#x27;Day&#x27;, &#x27;Month&#x27;, &#x27;Age&#x27;]</pre></div></div></div><div class=\"sk-serial\"><div class=\"sk-item\"><div class=\"sk-estimator sk-toggleable\"><input class=\"sk-toggleable__control sk-hidden--visually\" id=\"sk-estimator-id-4\" type=\"checkbox\" ><label for=\"sk-estimator-id-4\" class=\"sk-toggleable__label sk-toggleable__label-arrow\">StandardScaler</label><div class=\"sk-toggleable__content\"><pre>StandardScaler()</pre></div></div></div></div></div></div><div class=\"sk-parallel-item\"><div class=\"sk-item\"><div class=\"sk-label-container\"><div class=\"sk-label sk-toggleable\"><input class=\"sk-toggleable__control sk-hidden--visually\" id=\"sk-estimator-id-5\" type=\"checkbox\" ><label for=\"sk-estimator-id-5\" class=\"sk-toggleable__label sk-toggleable__label-arrow\">cat</label><div class=\"sk-toggleable__content\"><pre>[&#x27;category&#x27;, &#x27;gender&#x27;, &#x27;job&#x27;]</pre></div></div></div><div class=\"sk-serial\"><div class=\"sk-item\"><div class=\"sk-estimator sk-toggleable\"><input class=\"sk-toggleable__control sk-hidden--visually\" id=\"sk-estimator-id-6\" type=\"checkbox\" ><label for=\"sk-estimator-id-6\" class=\"sk-toggleable__label sk-toggleable__label-arrow\">OneHotEncoder</label><div class=\"sk-toggleable__content\"><pre>OneHotEncoder()</pre></div></div></div></div></div></div></div></div><div class=\"sk-item\"><div class=\"sk-estimator sk-toggleable\"><input class=\"sk-toggleable__control sk-hidden--visually\" id=\"sk-estimator-id-7\" type=\"checkbox\" ><label for=\"sk-estimator-id-7\" class=\"sk-toggleable__label sk-toggleable__label-arrow\">SMOTETransformer</label><div class=\"sk-toggleable__content\"><pre>&lt;__main__.SMOTETransformer object at 0x0000014DB9F400D0&gt;</pre></div></div></div><div class=\"sk-item\"><div class=\"sk-estimator sk-toggleable\"><input class=\"sk-toggleable__control sk-hidden--visually\" id=\"sk-estimator-id-8\" type=\"checkbox\" ><label for=\"sk-estimator-id-8\" class=\"sk-toggleable__label sk-toggleable__label-arrow\">RandomForestClassifier</label><div class=\"sk-toggleable__content\"><pre>RandomForestClassifier(class_weight=&#x27;balanced&#x27;, random_state=4)</pre></div></div></div></div></div></div></div>"
            ],
            "text/plain": [
              "Pipeline(steps=[('preprocessor',\n",
              "                 ColumnTransformer(transformers=[('num', StandardScaler(),\n",
              "                                                  ['amt', 'lat', 'long',\n",
              "                                                   'city_pop', 'Year', 'Hour',\n",
              "                                                   'Day', 'Month', 'Age']),\n",
              "                                                 ('cat', OneHotEncoder(),\n",
              "                                                  ['category', 'gender',\n",
              "                                                   'job'])])),\n",
              "                ('smote',\n",
              "                 <__main__.SMOTETransformer object at 0x0000014DB9F400D0>),\n",
              "                ('classifier',\n",
              "                 RandomForestClassifier(class_weight='balanced',\n",
              "                                        random_state=4))])"
            ]
          },
          "execution_count": 77,
          "metadata": {},
          "output_type": "execute_result"
        }
      ],
      "source": [
        "# Define numerical and categorical features\n",
        "numerical_features = ['amt', 'lat', 'long',\n",
        "                      'city_pop', 'Year', 'Hour', 'Day', 'Month', 'Age']\n",
        "\n",
        "categorical_features = ['category', 'gender', 'job']\n",
        "\n",
        "# Define the pipeline for preprocessing\n",
        "preprocessor = ColumnTransformer(\n",
        "    transformers=[\n",
        "        ('num', StandardScaler(), numerical_features),\n",
        "        ('cat', OneHotEncoder(), categorical_features)\n",
        "    ])\n",
        "\n",
        "# Combine preprocessing steps and classifier into a pipeline\n",
        "bin_pipeline = Pipeline([\n",
        "    ('preprocessor', preprocessor),\n",
        "    ('smote', SMOTETransformer(random_state=42)),\n",
        "    ('classifier', rf_model)\n",
        "])\n",
        "\n",
        "# Now you can train the pipeline on the training data and evaluate it on the test data\n",
        "bin_pipeline.fit(xtrain, ytrain)"
      ]
    },
    {
      "cell_type": "markdown",
      "metadata": {
        "id": "oYaurqQYQjOc"
      },
      "source": [
        "**Saving the Binary Pipeline Model to a Pickle file**"
      ]
    },
    {
      "cell_type": "code",
      "execution_count": 80,
      "metadata": {
        "id": "JP3nt7XlQbTC"
      },
      "outputs": [],
      "source": [
        "with open('website/binary_pipeline1.pkl', 'wb') as file:\n",
        "  pickle.dump(bin_pipeline, file)"
      ]
    },
    {
      "cell_type": "markdown",
      "metadata": {
        "id": "wbrWc8GQQqTz"
      },
      "source": [
        "### **Testing Binary Classification Model - Pipeline**"
      ]
    },
    {
      "cell_type": "code",
      "execution_count": 81,
      "metadata": {
        "id": "usUWs8zEQucq"
      },
      "outputs": [],
      "source": [
        "class PipelineTester:\n",
        "  def __init__(self, pipeline_path: str, test_data: pd.DataFrame):\n",
        "    self.pipeline_path = pipeline_path\n",
        "    self.test_data = test_data\n",
        "\n",
        "  def predict(self):\n",
        "    with open(self.pipeline_path, 'rb') as file:\n",
        "      loaded_pipeline = pickle.load(file)\n",
        "\n",
        "      # Get the probability scores for each class\n",
        "      probability_scores = loaded_pipeline.predict_proba(self.test_data)\n",
        "\n",
        "      # Accessing the probability for fraudulent transaction\n",
        "      fraud_class_prob = probability_scores[:, 1]\n",
        "\n",
        "      # Set a threshold for classification\n",
        "      threshold = 0.5\n",
        "\n",
        "      # Apply a threshold to classify the sample\n",
        "      if fraud_class_prob > threshold:\n",
        "        print(\"This is a Fraudulent Transaction\")\n",
        "      else:\n",
        "        print(\"Legitimate Transaction\")"
      ]
    },
    {
      "cell_type": "markdown",
      "metadata": {},
      "source": [
        "<!--  -->"
      ]
    },
    {
      "cell_type": "code",
      "execution_count": 84,
      "metadata": {},
      "outputs": [],
      "source": [
        "with open('website/binary_pipeline1.pkl', 'rb') as file:\n",
        "    loaded_model = pickle.load(file)"
      ]
    },
    {
      "cell_type": "code",
      "execution_count": 85,
      "metadata": {
        "colab": {
          "base_uri": "https://localhost:8080/"
        },
        "id": "kS5_EI-gWBnH",
        "outputId": "d2fefd95-0d3e-426f-b1bb-0b5f8b95bcc0"
      },
      "outputs": [
        {
          "name": "stdout",
          "output_type": "stream",
          "text": [
            "Legitimate Transaction\n"
          ]
        }
      ],
      "source": [
        "pipeline_test = PipelineTester('website/binary_pipeline1.pkl', sample_data1)\n",
        "pipeline_test.predict()"
      ]
    },
    {
      "cell_type": "code",
      "execution_count": 96,
      "metadata": {
        "colab": {
          "base_uri": "https://localhost:8080/"
        },
        "id": "-JysVeD-aMxh",
        "outputId": "92923538-da02-4ccf-bb73-b28ebc791358"
      },
      "outputs": [
        {
          "name": "stdout",
          "output_type": "stream",
          "text": [
            "This is a Fraudulent Transaction\n"
          ]
        }
      ],
      "source": [
        "pipeline_test = PipelineTester('website/binary_pipeline1.pkl', sample_data2)\n",
        "pipeline_test.predict()"
      ]
    }
  ],
  "metadata": {
    "accelerator": "GPU",
    "colab": {
      "gpuType": "T4",
      "provenance": []
    },
    "kernelspec": {
      "display_name": "Python 3",
      "name": "python3"
    },
    "language_info": {
      "codemirror_mode": {
        "name": "ipython",
        "version": 3
      },
      "file_extension": ".py",
      "mimetype": "text/x-python",
      "name": "python",
      "nbconvert_exporter": "python",
      "pygments_lexer": "ipython3",
      "version": "3.11.5"
    }
  },
  "nbformat": 4,
  "nbformat_minor": 0
}
